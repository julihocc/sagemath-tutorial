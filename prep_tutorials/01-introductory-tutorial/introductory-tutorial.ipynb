{
 "cells": [
  {
   "cell_type": "markdown",
   "metadata": {},
   "source": [
    "# Introductory Sage Tutorial"
   ]
  },
  {
   "cell_type": "markdown",
   "metadata": {},
   "source": [
    "## Functions in Sage\n",
    "\n",
    "Let's start with a simple function in Sage. We will define the quadratic function $f(x) = x^2$ and analyze its behavior with different input.\n",
    "\n"
   ]
  },
  {
   "cell_type": "code",
   "execution_count": 60,
   "metadata": {
    "vscode": {
     "languageId": "sage"
    }
   },
   "outputs": [
    {
     "data": {
      "text/plain": [
       "x^2"
      ]
     },
     "execution_count": 60,
     "metadata": {},
     "output_type": "execute_result"
    }
   ],
   "source": [
    "f(x) = x^2 \n",
    "f(x)"
   ]
  },
  {
   "cell_type": "code",
   "execution_count": 61,
   "metadata": {
    "vscode": {
     "languageId": "sage"
    }
   },
   "outputs": [
    {
     "data": {
      "text/plain": [
       "x |--> x^2"
      ]
     },
     "execution_count": 61,
     "metadata": {},
     "output_type": "execute_result"
    }
   ],
   "source": [
    "f "
   ]
  },
  {
   "cell_type": "code",
   "execution_count": 62,
   "metadata": {
    "vscode": {
     "languageId": "sage"
    }
   },
   "outputs": [
    {
     "data": {
      "text/plain": [
       "9"
      ]
     },
     "execution_count": 62,
     "metadata": {},
     "output_type": "execute_result"
    }
   ],
   "source": [
    "f(3)"
   ]
  },
  {
   "cell_type": "code",
   "execution_count": 63,
   "metadata": {
    "vscode": {
     "languageId": "sage"
    }
   },
   "outputs": [
    {
     "data": {
      "text/plain": [
       "pi^2"
      ]
     },
     "execution_count": 63,
     "metadata": {},
     "output_type": "execute_result"
    }
   ],
   "source": [
    "f(pi) "
   ]
  },
  {
   "cell_type": "code",
   "execution_count": 64,
   "metadata": {
    "vscode": {
     "languageId": "sage"
    }
   },
   "outputs": [
    {
     "data": {
      "text/plain": [
       "9.86960440108936"
      ]
     },
     "execution_count": 64,
     "metadata": {},
     "output_type": "execute_result"
    }
   ],
   "source": [
    "f(pi.n())"
   ]
  },
  {
   "cell_type": "code",
   "execution_count": 65,
   "metadata": {
    "vscode": {
     "languageId": "sage"
    }
   },
   "outputs": [
    {
     "data": {
      "text/plain": [
       "9.86960440108936"
      ]
     },
     "execution_count": 65,
     "metadata": {},
     "output_type": "execute_result"
    }
   ],
   "source": [
    "f(pi).n()"
   ]
  },
  {
   "cell_type": "code",
   "execution_count": 66,
   "metadata": {
    "vscode": {
     "languageId": "sage"
    }
   },
   "outputs": [
    {
     "data": {
      "text/plain": [
       "9.86958772810000"
      ]
     },
     "execution_count": 66,
     "metadata": {},
     "output_type": "execute_result"
    }
   ],
   "source": [
    "f(3.14159)"
   ]
  },
  {
   "cell_type": "code",
   "execution_count": 67,
   "metadata": {
    "vscode": {
     "languageId": "sage"
    }
   },
   "outputs": [
    {
     "data": {
      "text/plain": [
       "98695877281/10000000000"
      ]
     },
     "execution_count": 67,
     "metadata": {},
     "output_type": "execute_result"
    }
   ],
   "source": [
    "f(314159/100000)"
   ]
  },
  {
   "cell_type": "markdown",
   "metadata": {},
   "source": [
    "We are not restricted to use just the variable $x$ in the function. We can use any variable name. For example, we can define the function $g(y)=4*y-1$ as follows:"
   ]
  },
  {
   "cell_type": "code",
   "execution_count": 68,
   "metadata": {
    "vscode": {
     "languageId": "sage"
    }
   },
   "outputs": [
    {
     "data": {
      "text/plain": [
       "y |--> 4*y - 1"
      ]
     },
     "execution_count": 68,
     "metadata": {},
     "output_type": "execute_result"
    }
   ],
   "source": [
    "g(y) = 4*y-1\n",
    "g"
   ]
  },
  {
   "cell_type": "code",
   "execution_count": 69,
   "metadata": {
    "vscode": {
     "languageId": "sage"
    }
   },
   "outputs": [
    {
     "data": {
      "text/plain": [
       "4*x^2 - 1"
      ]
     },
     "execution_count": 69,
     "metadata": {},
     "output_type": "execute_result"
    }
   ],
   "source": [
    "g(f(x))"
   ]
  },
  {
   "cell_type": "code",
   "execution_count": 70,
   "metadata": {
    "vscode": {
     "languageId": "sage"
    }
   },
   "outputs": [
    {
     "data": {
      "text/plain": [
       "(2*x + 1)*(2*x - 1)"
      ]
     },
     "execution_count": 70,
     "metadata": {},
     "output_type": "execute_result"
    }
   ],
   "source": [
    "g(f(x)).factor()"
   ]
  },
  {
   "cell_type": "code",
   "execution_count": 71,
   "metadata": {
    "vscode": {
     "languageId": "sage"
    }
   },
   "outputs": [
    {
     "data": {
      "text/plain": [
       "(4*y - 1)^2"
      ]
     },
     "execution_count": 71,
     "metadata": {},
     "output_type": "execute_result"
    }
   ],
   "source": [
    "f(g(y))"
   ]
  },
  {
   "cell_type": "code",
   "execution_count": 72,
   "metadata": {
    "vscode": {
     "languageId": "sage"
    }
   },
   "outputs": [
    {
     "data": {
      "text/plain": [
       "16*y^2 - 8*y + 1"
      ]
     },
     "execution_count": 72,
     "metadata": {},
     "output_type": "execute_result"
    }
   ],
   "source": [
    "f(g(y)).expand()"
   ]
  },
  {
   "cell_type": "markdown",
   "metadata": {},
   "source": [
    "However, we need to make sure we do define a function if we use a new variable. Best practice is to define the function before using it."
   ]
  },
  {
   "cell_type": "code",
   "execution_count": 73,
   "metadata": {
    "vscode": {
     "languageId": "sage"
    }
   },
   "outputs": [
    {
     "data": {
      "text/plain": [
       "u |--> (u + 1)^2"
      ]
     },
     "execution_count": 73,
     "metadata": {},
     "output_type": "execute_result"
    }
   ],
   "source": [
    "u = var('u')\n",
    "h(u) = u^2 + 2*u + 1\n",
    "h.factor()"
   ]
  },
  {
   "cell_type": "markdown",
   "metadata": {},
   "source": [
    "As we have seen with $\\pi$, there are many other mathematical constants that are predefined in Sage. For example, we can use the Euler's number $e$ in our functions."
   ]
  },
  {
   "cell_type": "code",
   "execution_count": 74,
   "metadata": {
    "vscode": {
     "languageId": "sage"
    }
   },
   "outputs": [
    {
     "data": {
      "text/plain": [
       "e"
      ]
     },
     "execution_count": 74,
     "metadata": {},
     "output_type": "execute_result"
    }
   ],
   "source": [
    "e"
   ]
  },
  {
   "cell_type": "code",
   "execution_count": 75,
   "metadata": {
    "vscode": {
     "languageId": "sage"
    }
   },
   "outputs": [
    {
     "data": {
      "text/plain": [
       "2.71828182845905"
      ]
     },
     "execution_count": 75,
     "metadata": {},
     "output_type": "execute_result"
    }
   ],
   "source": [
    "e.n()"
   ]
  },
  {
   "cell_type": "code",
   "execution_count": 76,
   "metadata": {
    "vscode": {
     "languageId": "sage"
    }
   },
   "outputs": [
    {
     "data": {
      "text/plain": [
       "2.718281828459045235360287471352662497757247093699959574966967627724076630353547594571382178525166427"
      ]
     },
     "execution_count": 76,
     "metadata": {},
     "output_type": "execute_result"
    }
   ],
   "source": [
    "# The precision of the floating point number could be controlled by the n() method\n",
    "e.n(digits=100)"
   ]
  },
  {
   "cell_type": "code",
   "execution_count": 77,
   "metadata": {
    "vscode": {
     "languageId": "sage"
    }
   },
   "outputs": [
    {
     "data": {
      "text/plain": [
       "2.71828182845905"
      ]
     },
     "execution_count": 77,
     "metadata": {},
     "output_type": "execute_result"
    }
   ],
   "source": [
    "N(e)"
   ]
  },
  {
   "cell_type": "code",
   "execution_count": 78,
   "metadata": {
    "vscode": {
     "languageId": "sage"
    }
   },
   "outputs": [
    {
     "data": {
      "text/plain": [
       "k*e^(k*x)"
      ]
     },
     "execution_count": 78,
     "metadata": {},
     "output_type": "execute_result"
    }
   ],
   "source": [
    "x,k = var('x k')\n",
    "f(x) = e^(k*x)\n",
    "fp = f.diff(x)\n",
    "fp(x)"
   ]
  },
  {
   "cell_type": "markdown",
   "metadata": {},
   "source": [
    "If there is a valid reason to convert a value to a number, Sage will do it automatically. Otherwise, it will keep the value as a symbolic expression."
   ]
  },
  {
   "cell_type": "code",
   "execution_count": 79,
   "metadata": {
    "vscode": {
     "languageId": "sage"
    }
   },
   "outputs": [
    {
     "data": {
      "text/plain": [
       "1"
      ]
     },
     "execution_count": 79,
     "metadata": {},
     "output_type": "execute_result"
    }
   ],
   "source": [
    "# In Sage, log stands for the natural logarithm\n",
    "log(e)"
   ]
  },
  {
   "cell_type": "code",
   "execution_count": 80,
   "metadata": {
    "vscode": {
     "languageId": "sage"
    }
   },
   "outputs": [
    {
     "data": {
      "text/plain": [
       "log(3)"
      ]
     },
     "execution_count": 80,
     "metadata": {},
     "output_type": "execute_result"
    }
   ],
   "source": [
    "log(3)"
   ]
  },
  {
   "cell_type": "code",
   "execution_count": 81,
   "metadata": {
    "vscode": {
     "languageId": "sage"
    }
   },
   "outputs": [
    {
     "data": {
      "text/plain": [
       "3"
      ]
     },
     "execution_count": 81,
     "metadata": {},
     "output_type": "execute_result"
    }
   ],
   "source": [
    "sqrt(9)"
   ]
  },
  {
   "cell_type": "code",
   "execution_count": 82,
   "metadata": {
    "vscode": {
     "languageId": "sage"
    }
   },
   "outputs": [
    {
     "data": {
      "text/plain": [
       "sqrt(11)"
      ]
     },
     "execution_count": 82,
     "metadata": {},
     "output_type": "execute_result"
    }
   ],
   "source": [
    "sqrt(11)"
   ]
  },
  {
   "cell_type": "markdown",
   "metadata": {},
   "source": [
    "## Help inside Sage\n",
    "\n",
    "### Finding documentation \n",
    "\n",
    "- Use one `?` to get help on a function. For example, to get help on the `plot` function, type `plot?` and press `Shift+Enter`. \n",
    "- Use two `??` to get the source code of a function. For example, to get the source code of the `plot` function, type `plot??` and press `Shift+Enter`."
   ]
  },
  {
   "cell_type": "code",
   "execution_count": 83,
   "metadata": {
    "vscode": {
     "languageId": "sage"
    }
   },
   "outputs": [
    {
     "name": "stdout",
     "output_type": "stream",
     "text": [
      "\u001b[0;31mSignature:\u001b[0m      \u001b[0mintegrate\u001b[0m\u001b[0;34m(\u001b[0m\u001b[0mx\u001b[0m\u001b[0;34m,\u001b[0m \u001b[0;34m*\u001b[0m\u001b[0margs\u001b[0m\u001b[0;34m,\u001b[0m \u001b[0;34m**\u001b[0m\u001b[0mkwds\u001b[0m\u001b[0;34m)\u001b[0m\u001b[0;34m\u001b[0m\u001b[0;34m\u001b[0m\u001b[0m\n",
      "\u001b[0;31mDocstring:\u001b[0m     \n",
      "   Return an indefinite or definite integral of an object \"x\".\n",
      "\n",
      "   First call \"x.integral()\" and if that fails make an object and\n",
      "   integrate it using Maxima, maple, etc, as specified by algorithm.\n",
      "\n",
      "   For symbolic expression calls \"sage.calculus.calculus.integral()\" -\n",
      "   see this function for available options.\n",
      "\n",
      "   EXAMPLES:\n",
      "\n",
      "      sage: f = cyclotomic_polynomial(10)\n",
      "      sage: integral(f)\n",
      "      1/5*x^5 - 1/4*x^4 + 1/3*x^3 - 1/2*x^2 + x\n",
      "\n",
      "      sage: integral(sin(x),x)\n",
      "      -cos(x)\n",
      "\n",
      "      sage: y = var('y')\n",
      "      sage: integral(sin(x),y)\n",
      "      y*sin(x)\n",
      "\n",
      "      sage: integral(sin(x), x, 0, pi/2)\n",
      "      1\n",
      "      sage: sin(x).integral(x, 0,pi/2)\n",
      "      1\n",
      "      sage: integral(exp(-x), (x, 1, oo))\n",
      "      e^(-1)\n",
      "\n",
      "   Numerical approximation:\n",
      "\n",
      "      sage: h = integral(tan(x)/x, (x, 1, pi/3))\n",
      "      ...\n",
      "      sage: h\n",
      "      integrate(tan(x)/x, x, 1, 1/3*pi)\n",
      "      sage: h.n()\n",
      "      0.07571599101...\n",
      "\n",
      "   Specific algorithm can be used for integration:\n",
      "\n",
      "      sage: integral(sin(x)^2, x, algorithm='maxima')\n",
      "      1/2*x - 1/4*sin(2*x)\n",
      "      sage: integral(sin(x)^2, x, algorithm='sympy')\n",
      "      -1/2*cos(x)*sin(x) + 1/2*x\n",
      "\u001b[0;31mInit docstring:\u001b[0m Initialize self.  See help(type(self)) for accurate signature.\n",
      "\u001b[0;31mFile:\u001b[0m           /usr/lib/python3/dist-packages/sage/misc/functional.py\n",
      "\u001b[0;31mType:\u001b[0m           function\n"
     ]
    }
   ],
   "source": [
    "integrate?"
   ]
  },
  {
   "cell_type": "code",
   "execution_count": 84,
   "metadata": {
    "vscode": {
     "languageId": "sage"
    }
   },
   "outputs": [
    {
     "name": "stdout",
     "output_type": "stream",
     "text": [
      "\u001b[0;31mSignature:\u001b[0m \u001b[0mintegrate\u001b[0m\u001b[0;34m(\u001b[0m\u001b[0mx\u001b[0m\u001b[0;34m,\u001b[0m \u001b[0;34m*\u001b[0m\u001b[0margs\u001b[0m\u001b[0;34m,\u001b[0m \u001b[0;34m**\u001b[0m\u001b[0mkwds\u001b[0m\u001b[0;34m)\u001b[0m\u001b[0;34m\u001b[0m\u001b[0;34m\u001b[0m\u001b[0m\n",
      "\u001b[0;31mDocstring:\u001b[0m\n",
      "   Return an indefinite or definite integral of an object \"x\".\n",
      "\n",
      "   First call \"x.integral()\" and if that fails make an object and\n",
      "   integrate it using Maxima, maple, etc, as specified by algorithm.\n",
      "\n",
      "   For symbolic expression calls \"sage.calculus.calculus.integral()\" -\n",
      "   see this function for available options.\n",
      "\n",
      "   EXAMPLES:\n",
      "\n",
      "      sage: f = cyclotomic_polynomial(10)\n",
      "      sage: integral(f)\n",
      "      1/5*x^5 - 1/4*x^4 + 1/3*x^3 - 1/2*x^2 + x\n",
      "\n",
      "      sage: integral(sin(x),x)\n",
      "      -cos(x)\n",
      "\n",
      "      sage: y = var('y')\n",
      "      sage: integral(sin(x),y)\n",
      "      y*sin(x)\n",
      "\n",
      "      sage: integral(sin(x), x, 0, pi/2)\n",
      "      1\n",
      "      sage: sin(x).integral(x, 0,pi/2)\n",
      "      1\n",
      "      sage: integral(exp(-x), (x, 1, oo))\n",
      "      e^(-1)\n",
      "\n",
      "   Numerical approximation:\n",
      "\n",
      "      sage: h = integral(tan(x)/x, (x, 1, pi/3))\n",
      "      ...\n",
      "      sage: h\n",
      "      integrate(tan(x)/x, x, 1, 1/3*pi)\n",
      "      sage: h.n()\n",
      "      0.07571599101...\n",
      "\n",
      "   Specific algorithm can be used for integration:\n",
      "\n",
      "      sage: integral(sin(x)^2, x, algorithm='maxima')\n",
      "      1/2*x - 1/4*sin(2*x)\n",
      "      sage: integral(sin(x)^2, x, algorithm='sympy')\n",
      "      -1/2*cos(x)*sin(x) + 1/2*x\n",
      "\u001b[0;31mSource:\u001b[0m   \n",
      "\u001b[0;32mdef\u001b[0m \u001b[0mintegral\u001b[0m\u001b[0;34m(\u001b[0m\u001b[0mx\u001b[0m\u001b[0;34m,\u001b[0m \u001b[0;34m*\u001b[0m\u001b[0margs\u001b[0m\u001b[0;34m,\u001b[0m \u001b[0;34m**\u001b[0m\u001b[0mkwds\u001b[0m\u001b[0;34m)\u001b[0m\u001b[0;34m:\u001b[0m\u001b[0;34m\u001b[0m\n",
      "\u001b[0;34m\u001b[0m    \u001b[0;34m\"\"\"\u001b[0m\n",
      "\u001b[0;34m    Return an indefinite or definite integral of an object ``x``.\u001b[0m\n",
      "\u001b[0;34m\u001b[0m\n",
      "\u001b[0;34m    First call ``x.integral()`` and if that fails make an object and\u001b[0m\n",
      "\u001b[0;34m    integrate it using Maxima, maple, etc, as specified by algorithm.\u001b[0m\n",
      "\u001b[0;34m\u001b[0m\n",
      "\u001b[0;34m    For symbolic expression calls\u001b[0m\n",
      "\u001b[0;34m    :func:`sage.calculus.calculus.integral` - see this function for\u001b[0m\n",
      "\u001b[0;34m    available options.\u001b[0m\n",
      "\u001b[0;34m\u001b[0m\n",
      "\u001b[0;34m    EXAMPLES::\u001b[0m\n",
      "\u001b[0;34m\u001b[0m\n",
      "\u001b[0;34m        sage: f = cyclotomic_polynomial(10)\u001b[0m\n",
      "\u001b[0;34m        sage: integral(f)\u001b[0m\n",
      "\u001b[0;34m        1/5*x^5 - 1/4*x^4 + 1/3*x^3 - 1/2*x^2 + x\u001b[0m\n",
      "\u001b[0;34m\u001b[0m\n",
      "\u001b[0;34m    ::\u001b[0m\n",
      "\u001b[0;34m\u001b[0m\n",
      "\u001b[0;34m        sage: integral(sin(x),x)\u001b[0m\n",
      "\u001b[0;34m        -cos(x)\u001b[0m\n",
      "\u001b[0;34m\u001b[0m\n",
      "\u001b[0;34m    ::\u001b[0m\n",
      "\u001b[0;34m\u001b[0m\n",
      "\u001b[0;34m        sage: y = var('y')\u001b[0m\n",
      "\u001b[0;34m        sage: integral(sin(x),y)\u001b[0m\n",
      "\u001b[0;34m        y*sin(x)\u001b[0m\n",
      "\u001b[0;34m\u001b[0m\n",
      "\u001b[0;34m    ::\u001b[0m\n",
      "\u001b[0;34m\u001b[0m\n",
      "\u001b[0;34m        sage: integral(sin(x), x, 0, pi/2)\u001b[0m\n",
      "\u001b[0;34m        1\u001b[0m\n",
      "\u001b[0;34m        sage: sin(x).integral(x, 0,pi/2)\u001b[0m\n",
      "\u001b[0;34m        1\u001b[0m\n",
      "\u001b[0;34m        sage: integral(exp(-x), (x, 1, oo))\u001b[0m\n",
      "\u001b[0;34m        e^(-1)\u001b[0m\n",
      "\u001b[0;34m\u001b[0m\n",
      "\u001b[0;34m    Numerical approximation::\u001b[0m\n",
      "\u001b[0;34m\u001b[0m\n",
      "\u001b[0;34m        sage: h = integral(tan(x)/x, (x, 1, pi/3))\u001b[0m\n",
      "\u001b[0;34m        ...\u001b[0m\n",
      "\u001b[0;34m        sage: h\u001b[0m\n",
      "\u001b[0;34m        integrate(tan(x)/x, x, 1, 1/3*pi)\u001b[0m\n",
      "\u001b[0;34m        sage: h.n()\u001b[0m\n",
      "\u001b[0;34m        0.07571599101...\u001b[0m\n",
      "\u001b[0;34m\u001b[0m\n",
      "\u001b[0;34m    Specific algorithm can be used for integration::\u001b[0m\n",
      "\u001b[0;34m\u001b[0m\n",
      "\u001b[0;34m        sage: integral(sin(x)^2, x, algorithm='maxima')\u001b[0m\n",
      "\u001b[0;34m        1/2*x - 1/4*sin(2*x)\u001b[0m\n",
      "\u001b[0;34m        sage: integral(sin(x)^2, x, algorithm='sympy')\u001b[0m\n",
      "\u001b[0;34m        -1/2*cos(x)*sin(x) + 1/2*x\u001b[0m\n",
      "\u001b[0;34m\u001b[0m\n",
      "\u001b[0;34m    TESTS:\u001b[0m\n",
      "\u001b[0;34m\u001b[0m\n",
      "\u001b[0;34m    A symbolic integral from :trac:`11445` that was incorrect in\u001b[0m\n",
      "\u001b[0;34m    earlier versions of Maxima::\u001b[0m\n",
      "\u001b[0;34m\u001b[0m\n",
      "\u001b[0;34m        sage: f = abs(x - 1) + abs(x + 1) - 2*abs(x)\u001b[0m\n",
      "\u001b[0;34m        sage: integrate(f, (x, -Infinity, Infinity))\u001b[0m\n",
      "\u001b[0;34m        2\u001b[0m\n",
      "\u001b[0;34m\u001b[0m\n",
      "\u001b[0;34m    Another symbolic integral, from :trac:`11238`, that used to return\u001b[0m\n",
      "\u001b[0;34m    zero incorrectly; with Maxima 5.26.0 one gets\u001b[0m\n",
      "\u001b[0;34m    ``1/2*sqrt(pi)*e^(1/4)``, whereas with 5.29.1, and even more so\u001b[0m\n",
      "\u001b[0;34m    with 5.33.0, the expression is less pleasant, but still has the\u001b[0m\n",
      "\u001b[0;34m    same value.  Unfortunately, the computation takes a very long time\u001b[0m\n",
      "\u001b[0;34m    with the default settings, so we temporarily use the Maxima\u001b[0m\n",
      "\u001b[0;34m    setting ``domain: real``::\u001b[0m\n",
      "\u001b[0;34m\u001b[0m\n",
      "\u001b[0;34m        sage: sage.calculus.calculus.maxima('domain: real')\u001b[0m\n",
      "\u001b[0;34m        real\u001b[0m\n",
      "\u001b[0;34m        sage: f = exp(-x) * sinh(sqrt(x))\u001b[0m\n",
      "\u001b[0;34m        sage: t = integrate(f, x, 0, Infinity); t            # long time\u001b[0m\n",
      "\u001b[0;34m        1/4*sqrt(pi)*(erf(1) - 1)*e^(1/4) - 1/4*(sqrt(pi)*(erf(1) - 1) - sqrt(pi) + 2*e^(-1) - 2)*e^(1/4) + 1/4*sqrt(pi)*e^(1/4) - 1/2*e^(1/4) + 1/2*e^(-3/4)\u001b[0m\n",
      "\u001b[0;34m        sage: t.canonicalize_radical()  # long time\u001b[0m\n",
      "\u001b[0;34m        1/2*sqrt(pi)*e^(1/4)\u001b[0m\n",
      "\u001b[0;34m        sage: sage.calculus.calculus.maxima('domain: complex')\u001b[0m\n",
      "\u001b[0;34m        complex\u001b[0m\n",
      "\u001b[0;34m\u001b[0m\n",
      "\u001b[0;34m    An integral which used to return -1 before maxima 5.28. See :trac:`12842`::\u001b[0m\n",
      "\u001b[0;34m\u001b[0m\n",
      "\u001b[0;34m        sage: f = e^(-2*x)/sqrt(1-e^(-2*x))\u001b[0m\n",
      "\u001b[0;34m        sage: integrate(f, x, 0, infinity)\u001b[0m\n",
      "\u001b[0;34m        1\u001b[0m\n",
      "\u001b[0;34m\u001b[0m\n",
      "\u001b[0;34m    This integral would cause a stack overflow in earlier versions of\u001b[0m\n",
      "\u001b[0;34m    Maxima, crashing sage. See :trac:`12377`. We don't care about the\u001b[0m\n",
      "\u001b[0;34m    result here, just that the computation completes successfully::\u001b[0m\n",
      "\u001b[0;34m\u001b[0m\n",
      "\u001b[0;34m        sage: y = (x^2)*exp(x) / (1 + exp(x))^2\u001b[0m\n",
      "\u001b[0;34m        sage: _ = integrate(y, x, -1000, 1000)\u001b[0m\n",
      "\u001b[0;34m\u001b[0m\n",
      "\u001b[0;34m    When SymPy cannot solve an integral it gives it back, so we must\u001b[0m\n",
      "\u001b[0;34m    be able to convert SymPy's ``Integral`` (:trac:`14723`)::\u001b[0m\n",
      "\u001b[0;34m\u001b[0m\n",
      "\u001b[0;34m        sage: x, y, z = var('x,y,z')\u001b[0m\n",
      "\u001b[0;34m        sage: f = function('f')\u001b[0m\n",
      "\u001b[0;34m        sage: integrate(f(x), x, algorithm='sympy')\u001b[0m\n",
      "\u001b[0;34m        integrate(f(x), x)\u001b[0m\n",
      "\u001b[0;34m        sage: integrate(f(x), x, 0, 1,algorithm='sympy')\u001b[0m\n",
      "\u001b[0;34m        integrate(f(x), x, 0, 1)\u001b[0m\n",
      "\u001b[0;34m        sage: integrate(integrate(integrate(f(x,y,z), x, algorithm='sympy'), y, algorithm='sympy'), z, algorithm='sympy')\u001b[0m\n",
      "\u001b[0;34m        integrate(integrate(integrate(f(x, y, z), x), y), z)\u001b[0m\n",
      "\u001b[0;34m        sage: integrate(sin(x)*tan(x)/(1-cos(x)), x, algorithm='sympy')\u001b[0m\n",
      "\u001b[0;34m        -integrate(sin(x)*tan(x)/(cos(x) - 1), x)\u001b[0m\n",
      "\u001b[0;34m        sage: _ = var('a,b,x')\u001b[0m\n",
      "\u001b[0;34m        sage: integrate(sin(x)*tan(x)/(1-cos(x)), x, a, b, algorithm='sympy')\u001b[0m\n",
      "\u001b[0;34m        -integrate(sin(x)*tan(x)/(cos(x) - 1), x, a, b)\u001b[0m\n",
      "\u001b[0;34m        sage: import sympy\u001b[0m\n",
      "\u001b[0;34m        sage: x, y, z = sympy.symbols('x y z')\u001b[0m\n",
      "\u001b[0;34m        sage: f = sympy.Function('f')\u001b[0m\n",
      "\u001b[0;34m        sage: SR(sympy.Integral(f(x,y,z), x, y, z))\u001b[0m\n",
      "\u001b[0;34m        integrate(integrate(integrate(f(x, y, z), x), y), z)\u001b[0m\n",
      "\u001b[0;34m\u001b[0m\n",
      "\u001b[0;34m    Ensure that the following integral containing a signum term from\u001b[0m\n",
      "\u001b[0;34m    :trac:`11590` can be integrated::\u001b[0m\n",
      "\u001b[0;34m\u001b[0m\n",
      "\u001b[0;34m        sage: x = SR.symbol('x', domain='real')\u001b[0m\n",
      "\u001b[0;34m        sage: result = integrate(x * sgn(x^2 - 1/4), x, -1, 0)\u001b[0m\n",
      "\u001b[0;34m        ...\u001b[0m\n",
      "\u001b[0;34m        sage: result\u001b[0m\n",
      "\u001b[0;34m        -1/4\u001b[0m\n",
      "\u001b[0;34m\u001b[0m\n",
      "\u001b[0;34m    \"\"\"\u001b[0m\u001b[0;34m\u001b[0m\n",
      "\u001b[0;34m\u001b[0m    \u001b[0;32mif\u001b[0m \u001b[0mhasattr\u001b[0m\u001b[0;34m(\u001b[0m\u001b[0mx\u001b[0m\u001b[0;34m,\u001b[0m \u001b[0;34m'integral'\u001b[0m\u001b[0;34m)\u001b[0m\u001b[0;34m:\u001b[0m\u001b[0;34m\u001b[0m\n",
      "\u001b[0;34m\u001b[0m        \u001b[0;32mreturn\u001b[0m \u001b[0mx\u001b[0m\u001b[0;34m.\u001b[0m\u001b[0mintegral\u001b[0m\u001b[0;34m(\u001b[0m\u001b[0;34m*\u001b[0m\u001b[0margs\u001b[0m\u001b[0;34m,\u001b[0m \u001b[0;34m**\u001b[0m\u001b[0mkwds\u001b[0m\u001b[0;34m)\u001b[0m\u001b[0;34m\u001b[0m\n",
      "\u001b[0;34m\u001b[0m    \u001b[0;32melse\u001b[0m\u001b[0;34m:\u001b[0m\u001b[0;34m\u001b[0m\n",
      "\u001b[0;34m\u001b[0m        \u001b[0;32mfrom\u001b[0m \u001b[0msage\u001b[0m\u001b[0;34m.\u001b[0m\u001b[0msymbolic\u001b[0m\u001b[0;34m.\u001b[0m\u001b[0mring\u001b[0m \u001b[0;32mimport\u001b[0m \u001b[0mSR\u001b[0m\u001b[0;34m\u001b[0m\n",
      "\u001b[0;34m\u001b[0m        \u001b[0;32mreturn\u001b[0m \u001b[0mSR\u001b[0m\u001b[0;34m(\u001b[0m\u001b[0mx\u001b[0m\u001b[0;34m)\u001b[0m\u001b[0;34m.\u001b[0m\u001b[0mintegral\u001b[0m\u001b[0;34m(\u001b[0m\u001b[0;34m*\u001b[0m\u001b[0margs\u001b[0m\u001b[0;34m,\u001b[0m \u001b[0;34m**\u001b[0m\u001b[0mkwds\u001b[0m\u001b[0;34m)\u001b[0m\u001b[0;34m\u001b[0m\u001b[0;34m\u001b[0m\u001b[0m\n",
      "\u001b[0;31mFile:\u001b[0m      /usr/lib/python3/dist-packages/sage/misc/functional.py\n",
      "\u001b[0;31mType:\u001b[0m      function\n"
     ]
    }
   ],
   "source": [
    "integrate??"
   ]
  },
  {
   "cell_type": "markdown",
   "metadata": {},
   "source": [
    "Finally, you can utilize $\\LaTeX$ in Sage. For example, you can use the `latex` function to convert a symbolic expression to $\\LaTeX$ format."
   ]
  },
  {
   "cell_type": "code",
   "execution_count": 85,
   "metadata": {
    "vscode": {
     "languageId": "sage"
    }
   },
   "outputs": [
    {
     "data": {
      "text/plain": [
       "A e^{\\left(-x\\right)} \\sin\\left(2 \\, \\pi x\\right)"
      ]
     },
     "execution_count": 85,
     "metadata": {},
     "output_type": "execute_result"
    }
   ],
   "source": [
    "A = var('A')\n",
    "latex(A*e^(-x)*sin(2*pi*x))"
   ]
  },
  {
   "cell_type": "markdown",
   "metadata": {},
   "source": [
    "Conclusion\n",
    "This concludes the introductory tutorial. Our hope is that now you can try finding and using simple commands and functions in Sage. Remember, help is as close as the notebook, or at [the Sage website](http://www.sagemath.org/)."
   ]
  }
 ],
 "metadata": {
  "kernelspec": {
   "display_name": "SageMath 9.5",
   "language": "sage",
   "name": "sagemath"
  },
  "language_info": {
   "codemirror_mode": {
    "name": "ipython",
    "version": 3
   },
   "file_extension": ".py",
   "mimetype": "text/x-python",
   "name": "python",
   "nbconvert_exporter": "python",
   "pygments_lexer": "ipython3",
   "version": "3.10.12"
  }
 },
 "nbformat": 4,
 "nbformat_minor": 2
}
