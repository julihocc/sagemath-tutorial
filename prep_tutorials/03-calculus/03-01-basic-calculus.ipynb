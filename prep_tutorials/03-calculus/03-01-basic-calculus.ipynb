{
 "cells": [
  {
   "cell_type": "markdown",
   "metadata": {},
   "source": [
    "# Tutorial for Calculus\n",
    "## Part 1: Basic concepts of calculus\n",
    "\n",
    "The calculus is amazing not so much because it solves problems of tangency or area - individual solutions to these problems have been known before. It is amazing because it gives a remarkably comprehensive set of rules for symbolic manipulation for solving such problems in great generality!\n",
    "\n",
    "Thus, the most typical use of a computer system like Sage in this context is simply to help check (or make less tedious) basic symbolic manipulation of things like derivatives. Let’s define an example function $f(x)=x^3=1$. "
   ]
  },
  {
   "cell_type": "code",
   "execution_count": 11,
   "metadata": {
    "vscode": {
     "languageId": "sage"
    }
   },
   "outputs": [
    {
     "data": {
      "text/plain": [
       "x |--> x^3 + 1"
      ]
     },
     "execution_count": 11,
     "metadata": {},
     "output_type": "execute_result"
    }
   ],
   "source": [
    "f(x) = x^3+1\n",
    "f "
   ]
  },
  {
   "cell_type": "markdown",
   "metadata": {},
   "source": [
    "Something most (but not all) curricula for first-semester calculus do is spend a fair amount of time with limits.\n",
    "\n",
    "What is the limit of this function as $x$ approaches $1$?"
   ]
  },
  {
   "cell_type": "code",
   "execution_count": 12,
   "metadata": {
    "vscode": {
     "languageId": "sage"
    }
   },
   "outputs": [
    {
     "data": {
      "text/plain": [
       "x |--> 2"
      ]
     },
     "execution_count": 12,
     "metadata": {},
     "output_type": "execute_result"
    }
   ],
   "source": [
    "lim(f,x=1)"
   ]
  },
  {
   "cell_type": "markdown",
   "metadata": {},
   "source": [
    "Sage gives the answer we expect. The syntax for limits is pretty straightforward, though it may differ slightly from that of other systems.\n",
    "\n",
    "Since a limit may exist even if the function is not defined, Sage uses the syntax x=1 to show the input value approached in all situations."
   ]
  },
  {
   "cell_type": "code",
   "execution_count": 13,
   "metadata": {
    "vscode": {
     "languageId": "sage"
    }
   },
   "outputs": [
    {
     "data": {
      "text/plain": [
       "2"
      ]
     },
     "execution_count": 13,
     "metadata": {},
     "output_type": "execute_result"
    }
   ],
   "source": [
    "lim((x^2-1)/(x-1),x=1)"
   ]
  },
  {
   "cell_type": "markdown",
   "metadata": {},
   "source": [
    "Next, we’ll return to the original function, and check the two directional limits.\n",
    "\n",
    "The syntax uses the extra keyword dir.\n",
    "\n",
    "- Notice that we use dir='right', not dir=right.\n",
    "- It’s also okay to use dir='+', like we use dir='-' below.\n",
    "\n"
   ]
  },
  {
   "cell_type": "code",
   "execution_count": 14,
   "metadata": {
    "vscode": {
     "languageId": "sage"
    }
   },
   "outputs": [
    {
     "data": {
      "text/plain": [
       "x |--> 2"
      ]
     },
     "execution_count": 14,
     "metadata": {},
     "output_type": "execute_result"
    }
   ],
   "source": [
    "lim(f,x=1,dir='-')"
   ]
  },
  {
   "cell_type": "code",
   "execution_count": 15,
   "metadata": {
    "vscode": {
     "languageId": "sage"
    }
   },
   "outputs": [
    {
     "data": {
      "text/plain": [
       "x |--> 2"
      ]
     },
     "execution_count": 15,
     "metadata": {},
     "output_type": "execute_result"
    }
   ],
   "source": [
    " lim(f,x=1,dir='right')"
   ]
  },
  {
   "cell_type": "markdown",
   "metadata": {},
   "source": [
    "By comparing with $f(1)$, we see that $f(1)$ is continuous at $x=1$.\n",
    "\n",
    "This cell also reminds us of something else:\n",
    "\n",
    "By separating several commands with semicolons, we can tell Sage to evaluate all of them while still seeing all their outputs.\n",
    "\n",
    "What we spend the most time on in Calculus 1 is derivatives, and Sage is fully-featured here.\n",
    "\n",
    "For example, here are three ways to get the basic, single-variable derivative of $f(x)=x^3=1$:"
   ]
  },
  {
   "cell_type": "code",
   "execution_count": 16,
   "metadata": {
    "vscode": {
     "languageId": "sage"
    }
   },
   "outputs": [
    {
     "data": {
      "text/plain": [
       "x |--> 3*x^2"
      ]
     },
     "execution_count": 16,
     "metadata": {},
     "output_type": "execute_result"
    }
   ],
   "source": [
    "diff(f,x)"
   ]
  },
  {
   "cell_type": "code",
   "execution_count": 17,
   "metadata": {
    "vscode": {
     "languageId": "sage"
    }
   },
   "outputs": [
    {
     "data": {
      "text/plain": [
       "x |--> 3*x^2"
      ]
     },
     "execution_count": 17,
     "metadata": {},
     "output_type": "execute_result"
    }
   ],
   "source": [
    "derivative(f,x)"
   ]
  },
  {
   "cell_type": "code",
   "execution_count": 18,
   "metadata": {
    "vscode": {
     "languageId": "sage"
    }
   },
   "outputs": [
    {
     "data": {
      "text/plain": [
       "x |--> 3*x^2"
      ]
     },
     "execution_count": 18,
     "metadata": {},
     "output_type": "execute_result"
    }
   ],
   "source": [
    "f.derivative(x)"
   ]
  },
  {
   "cell_type": "markdown",
   "metadata": {
    "vscode": {
     "languageId": "sage"
    }
   },
   "source": [
    "Naturally, Sage knows all of the derivatives you want.\n"
   ]
  },
  {
   "cell_type": "code",
   "execution_count": 19,
   "metadata": {
    "vscode": {
     "languageId": "sage"
    }
   },
   "outputs": [
    {
     "data": {
      "text/plain": [
       "1/2*(4*x + 1/sqrt(x - 1))*cosh(x^2 + sqrt(x - 1))"
      ]
     },
     "execution_count": 19,
     "metadata": {},
     "output_type": "execute_result"
    }
   ],
   "source": [
    "derivative(sinh(x^2+sqrt(x-1)),x)"
   ]
  },
  {
   "cell_type": "markdown",
   "metadata": {},
   "source": [
    "A common question is why Sage might not check automatically if there is some “simpler” version. But simplifying an expression, or indeed, even defining what a ‘simple’ expression is, turns out to be a very hard technical and mathematical problem in general. Computers will not solve every problem!\n",
    "\n",
    "As a brief interlude, let’s consider an application of our ability to do some basic differential calculus.\n",
    "\n",
    "First, as a reminder of plotting from the previous tutorial, try to plot the function $f(x)$, together with its tangent line at $x=1$, in the empty cells below. (If you can, do it without looking at the previous tutorial for a reminder.)\n",
    "\n",
    "Did you get it?"
   ]
  },
  {
   "cell_type": "markdown",
   "metadata": {},
   "source": [
    "### Tangent lines\n",
    "\n",
    "Of course, in general we might want to see tangent lines at lots of different points - for instance, for a class demonstration.\n",
    "\n",
    "So in the following cell, there are several auxiliary elements:\n",
    "\n",
    "- We define the plot `P` of the original function.\n",
    "- There is a parameter `c=1/3`, which is the `x`-value where we want a tangent line.\n",
    "- We let `fprime` be the derivative function simply by declaring it equal to the derivative.\n",
    "- We let `L` be the tangent line defined by the point-slope formula at $x=c$.\n",
    "- We make `Q` be the plot of this line.\n",
    "\n",
    "Finally, we plot everything together in the last line by adding `P+Q`. "
   ]
  },
  {
   "cell_type": "code",
   "execution_count": 20,
   "metadata": {
    "vscode": {
     "languageId": "sage"
    }
   },
   "outputs": [
    {
     "data": {
      "image/png": "[encoded data removed]",
      "text/plain": [
       "Graphics object consisting of 2 graphics primitives"
      ]
     },
     "execution_count": 20,
     "metadata": {},
     "output_type": "execute_result"
    }
   ],
   "source": [
    "P=plot(f,(x,-1,1))\n",
    "c=1/3\n",
    "fprime=derivative(f,x)\n",
    "L(x)=fprime(c)*(x-c)+f(c)\n",
    "Q=plot(L,(x,-1,1), color=\"red\", linestyle=\"--\")\n",
    "P+Q"
   ]
  },
  {
   "cell_type": "markdown",
   "metadata": {},
   "source": [
    "A final topic in Calculus 1 usually is basic integration. The syntax for indefinite integration is similar to that for differentiation."
   ]
  },
  {
   "cell_type": "code",
   "execution_count": 21,
   "metadata": {
    "vscode": {
     "languageId": "sage"
    }
   },
   "outputs": [
    {
     "data": {
      "text/plain": [
       "sin(x)"
      ]
     },
     "execution_count": 21,
     "metadata": {},
     "output_type": "execute_result"
    }
   ],
   "source": [
    "integral(cos(x),x)"
   ]
  },
  {
   "cell_type": "markdown",
   "metadata": {},
   "source": [
    "We do not get the whole indefinite integral, just a convenient antiderivative.\n",
    "\n",
    "(If you were to get a different answer ‘by hand’, remember that being an antiderivative means the answer is correct up to a constant - and deciding whether this is the case with two expressions has the same problems as the issue of “simplification” above.)\n",
    "\n",
    "Definite integration has similar syntax to plotting."
   ]
  },
  {
   "cell_type": "code",
   "execution_count": 22,
   "metadata": {
    "vscode": {
     "languageId": "sage"
    }
   },
   "outputs": [
    {
     "data": {
      "text/plain": [
       "1"
      ]
     },
     "execution_count": 22,
     "metadata": {},
     "output_type": "execute_result"
    }
   ],
   "source": [
    "integral(cos(x),(x,0,pi/2))"
   ]
  }
 ],
 "metadata": {
  "kernelspec": {
   "display_name": "SageMath 9.5",
   "language": "sage",
   "name": "sagemath"
  },
  "language_info": {
   "codemirror_mode": {
    "name": "ipython",
    "version": 3
   },
   "file_extension": ".py",
   "mimetype": "text/x-python",
   "name": "python",
   "nbconvert_exporter": "python",
   "pygments_lexer": "ipython3",
   "version": "3.10.12"
  }
 },
 "nbformat": 4,
 "nbformat_minor": 2
}
