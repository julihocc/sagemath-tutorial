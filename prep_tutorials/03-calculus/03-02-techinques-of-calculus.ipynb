{
 "cells": [
  {
   "cell_type": "markdown",
   "metadata": {},
   "source": [
    "# Tutorial for Calculus\n",
    "## Part 2: Techniques for Advanced Calculus\n",
    "\n",
    "Second-semester calculus is typically more challenging.\n",
    "\n",
    "- One reason for that is that the computational problems are not so straightforward as computing derivatives and basic integrals.\n",
    "- Another reason is that the second semester is usually where the harder versions of problems from the first semester show up.\n",
    "\n",
    "Nonetheless, Sage can handle this as well.\n",
    "\n",
    "Sage includes a large number of indefinite integrals (via Maxima), though not all the ones you will find in a comprehensive table."
   ]
  },
  {
   "cell_type": "code",
   "execution_count": 41,
   "metadata": {},
   "outputs": [
    {
     "data": {
      "text/plain": [
       "x |--> log(sec(x) + tan(x))"
      ]
     },
     "execution_count": 41,
     "metadata": {},
     "output_type": "execute_result"
    }
   ],
   "source": [
    "h(x)=sec(x)\n",
    "h.integrate(x)"
   ]
  },
  {
   "cell_type": "markdown",
   "metadata": {},
   "source": [
    "Since I defined `h` as a function, the answer I get is also a function. If I just want an expression as the answer, I can do the following."
   ]
  },
  {
   "cell_type": "code",
   "execution_count": 42,
   "metadata": {},
   "outputs": [
    {
     "data": {
      "text/plain": [
       "log(sec(x) + tan(x))"
      ]
     },
     "execution_count": 42,
     "metadata": {},
     "output_type": "execute_result"
    }
   ],
   "source": [
    "integrate(sec(x),x)"
   ]
  },
  {
   "cell_type": "markdown",
   "metadata": {},
   "source": [
    "Here is another (longer) example. Do you remember what command would help it look nicer in the browser?"
   ]
  },
  {
   "cell_type": "code",
   "execution_count": 43,
   "metadata": {},
   "outputs": [
    {
     "data": {
      "text/plain": [
       "1/5*sqrt(5)*(sqrt(5) + 1)*arctan((4*x + sqrt(5) - 1)/sqrt(2*sqrt(5) + 10))/sqrt(2*sqrt(5) + 10) + 1/5*sqrt(5)*(sqrt(5) - 1)*arctan((4*x - sqrt(5) - 1)/sqrt(-2*sqrt(5) + 10))/sqrt(-2*sqrt(5) + 10) - 1/10*(sqrt(5) + 3)*log(2*x^2 - x*(sqrt(5) + 1) + 2)/(sqrt(5) + 1) - 1/10*(sqrt(5) - 3)*log(2*x^2 + x*(sqrt(5) - 1) + 2)/(sqrt(5) - 1) + 1/5*log(x + 1)"
      ]
     },
     "execution_count": 43,
     "metadata": {},
     "output_type": "execute_result"
    }
   ],
   "source": [
    "integrate(1/(1+x^5),x)"
   ]
  },
  {
   "cell_type": "markdown",
   "metadata": {},
   "source": [
    "Some integrals are a little tricky, of course. Sage tries hard to integrate using \n",
    "- [Maxima](https://maxima.sourceforge.io/), \n",
    "- [Giac](https://www-fourier.ujf-grenoble.fr/~parisse/giac.html) and \n",
    "- [Sympy](https://www.sympy.org/en/index.html):"
   ]
  },
  {
   "cell_type": "code",
   "execution_count": 44,
   "metadata": {},
   "outputs": [
    {
     "data": {
      "text/plain": [
       "1/20*(sqrt(5) + 1)*arctan((4*x + sqrt(-2*sqrt(5) + 10))/(sqrt(5) + 1)) + 1/20*(sqrt(5) + 1)*arctan((4*x - sqrt(-2*sqrt(5) + 10))/(sqrt(5) + 1)) + 1/20*(sqrt(5) - 1)*arctan((4*x + sqrt(2*sqrt(5) + 10))/(sqrt(5) - 1)) + 1/20*(sqrt(5) - 1)*arctan((4*x - sqrt(2*sqrt(5) + 10))/(sqrt(5) - 1)) + 1/40*sqrt(2*sqrt(5) + 10)*log(x^2 + 1/2*x*sqrt(2*sqrt(5) + 10) + 1) - 1/40*sqrt(2*sqrt(5) + 10)*log(x^2 - 1/2*x*sqrt(2*sqrt(5) + 10) + 1) + 1/40*sqrt(-2*sqrt(5) + 10)*log(x^2 + 1/2*x*sqrt(-2*sqrt(5) + 10) + 1) - 1/40*sqrt(-2*sqrt(5) + 10)*log(x^2 - 1/2*x*sqrt(-2*sqrt(5) + 10) + 1) + 1/5*arctan(x)"
      ]
     },
     "execution_count": 44,
     "metadata": {},
     "output_type": "execute_result"
    }
   ],
   "source": [
    "integral(1/(1+x^10),x)"
   ]
  },
  {
   "cell_type": "markdown",
   "metadata": {},
   "source": [
    "If you ask for Maxima specifically, the result can be partial:"
   ]
  },
  {
   "cell_type": "code",
   "execution_count": 45,
   "metadata": {},
   "outputs": [
    {
     "data": {
      "text/plain": [
       "1/5*arctan(x) - 1/5*integrate((x^6 - 2*x^4 + 3*x^2 - 4)/(x^8 - x^6 + x^4 - x^2 + 1), x)"
      ]
     },
     "execution_count": 45,
     "metadata": {},
     "output_type": "execute_result"
    }
   ],
   "source": [
    "integral(1/(1+x^10),x, algorithm='maxima')"
   ]
  },
  {
   "cell_type": "markdown",
   "metadata": {},
   "source": [
    "If no antiderivative is found, the result is just the input:"
   ]
  },
  {
   "cell_type": "code",
   "execution_count": 46,
   "metadata": {},
   "outputs": [
    {
     "data": {
      "text/plain": [
       "integrate(sinh(x^2 + sqrt(x - 1)), x)"
      ]
     },
     "execution_count": 46,
     "metadata": {},
     "output_type": "execute_result"
    }
   ],
   "source": [
    "result = integral(sinh(x^2+sqrt(x-1)),x)  \n",
    "result  "
   ]
  },
  {
   "cell_type": "markdown",
   "metadata": {},
   "source": [
    "This last one stumps other systems too.\n",
    "\n",
    "However, if there is a special function which helps compute the integral, Sage will look for it. In the following case there is no elementary antiderivative, but the `erf` function helps us out."
   ]
  },
  {
   "cell_type": "code",
   "execution_count": 47,
   "metadata": {},
   "outputs": [
    {
     "data": {
      "text/plain": [
       "1/2*sqrt(pi)*erf(x)"
      ]
     },
     "execution_count": 47,
     "metadata": {},
     "output_type": "execute_result"
    }
   ],
   "source": [
    "integral(e^(-x^2),x)"
   ]
  },
  {
   "cell_type": "markdown",
   "metadata": {},
   "source": [
    "Do not forget, if this function is unfamiliar to you (as it might be to students trying this integral), Sage’s contextual help system comes to the rescue."
   ]
  },
  {
   "cell_type": "code",
   "execution_count": 48,
   "metadata": {},
   "outputs": [
    {
     "name": "stdout",
     "output_type": "stream",
     "text": [
      "\u001b[0;31mType:\u001b[0m            LazyImport\n",
      "\u001b[0;31mString form:\u001b[0m     erf\n",
      "\u001b[0;31mFile:\u001b[0m            /usr/lib/python3/dist-packages/sage/misc/lazy_import.pyx\n",
      "\u001b[0;31mDocstring:\u001b[0m      \n",
      "   The error function.\n",
      "\n",
      "   The error function is defined for real values as\n",
      "\n",
      "      \\operatorname{erf}(x) = \\frac{2}{\\sqrt{\\pi}} \\int_0^x e^{-t^2}\n",
      "      dt.\n",
      "\n",
      "   This function is also defined for complex values, via analytic\n",
      "   continuation.\n",
      "\n",
      "   EXAMPLES:\n",
      "\n",
      "   We can evaluate numerically:\n",
      "\n",
      "      sage: erf(2)\n",
      "      erf(2)\n",
      "      sage: erf(2).n()\n",
      "      0.995322265018953\n",
      "      sage: erf(2).n(100)\n",
      "      0.99532226501895273416206925637\n",
      "      sage: erf(ComplexField(100)(2+3j))\n",
      "      -20.829461427614568389103088452 + 8.6873182714701631444280787545*I\n",
      "\n",
      "   Basic symbolic properties are handled by Sage and Maxima:\n",
      "\n",
      "      sage: x = var(\"x\")\n",
      "      sage: diff(erf(x),x)\n",
      "      2*e^(-x^2)/sqrt(pi)\n",
      "      sage: integrate(erf(x),x)\n",
      "      x*erf(x) + e^(-x^2)/sqrt(pi)\n",
      "\n",
      "   ALGORITHM:\n",
      "\n",
      "   Sage implements numerical evaluation of the error function via the\n",
      "   \"erf()\" function from mpmath. Symbolics are handled by Sage and\n",
      "   Maxima.\n",
      "\n",
      "   REFERENCES:\n",
      "\n",
      "   * https://en.wikipedia.org/wiki/Error_function\n",
      "\n",
      "   * http://mpmath.googlecode.com/svn/trunk/doc/build/functions/expin\n",
      "     tegrals.html#error-functions\n",
      "\u001b[0;31mClass docstring:\u001b[0m\n",
      "   EXAMPLES:\n",
      "\n",
      "      sage: from sage.misc.lazy_import import LazyImport\n",
      "      sage: my_integer = LazyImport('sage.rings.all', 'Integer')\n",
      "      sage: my_integer(4)\n",
      "      4\n",
      "      sage: my_integer('101', base=2)\n",
      "      5\n",
      "      sage: my_integer(3/2)\n",
      "      Traceback (most recent call last):\n",
      "      ...\n",
      "      TypeError: no conversion of this rational to integer\n",
      "\u001b[0;31mInit docstring:\u001b[0m \n",
      "   EXAMPLES:\n",
      "\n",
      "      sage: from sage.misc.lazy_import import LazyImport\n",
      "      sage: lazy_ZZ = LazyImport('sage.rings.all', 'ZZ')\n",
      "      sage: type(lazy_ZZ)\n",
      "      <class 'sage.misc.lazy_import.LazyImport'>\n",
      "      sage: lazy_ZZ._get_object() is ZZ\n",
      "      True\n",
      "      sage: type(lazy_ZZ)\n",
      "      <class 'sage.misc.lazy_import.LazyImport'>\n",
      "\u001b[0;31mCall docstring:\u001b[0m \n",
      "   Calling self calls the wrapped object.\n",
      "\n",
      "   EXAMPLES:\n",
      "\n",
      "      sage: from sage.misc.lazy_import import LazyImport\n",
      "      sage: my_isprime = LazyImport('sage.all', 'is_prime')\n",
      "      sage: is_prime(12) == my_isprime(12)\n",
      "      True\n",
      "      sage: is_prime(13) == my_isprime(13)\n",
      "      True\n"
     ]
    }
   ],
   "source": [
    "erf?"
   ]
  },
  {
   "cell_type": "markdown",
   "metadata": {
    "vscode": {
     "languageId": "sage"
    }
   },
   "source": [
    "### Topics on integration \n",
    "\n",
    "There are several ways to do definite integrals in Sage.\n",
    "\n",
    "The most obvious one is simply turning\n",
    "\n",
    "$$\\int f(x) \\, dx$$\n",
    "\n",
    "into\n",
    "\n",
    "$$\\int_a^b f(x) \\, dx$$\n",
    "    \n",
    "where $a$ and $b$ are the limits of integration, as indicated in the first section."
   ]
  },
  {
   "cell_type": "code",
   "execution_count": 49,
   "metadata": {},
   "outputs": [
    {
     "data": {
      "text/plain": [
       "1"
      ]
     },
     "execution_count": 49,
     "metadata": {},
     "output_type": "execute_result"
    }
   ],
   "source": [
    "integral(cos(x),(x,0,pi/2))"
   ]
  },
  {
   "cell_type": "markdown",
   "metadata": {},
   "source": [
    "The preferred syntax puts the variable and endpoints together in parentheses.\n",
    "\n",
    "Just like with derivatives, we can visualize this integral using some of the plotting options from the plotting tutorial."
   ]
  },
  {
   "cell_type": "code",
   "execution_count": 50,
   "metadata": {},
   "outputs": [
    {
     "data": {
      "image/png": "[encoded data removed]",
      "text/plain": [
       "Graphics object consisting of 2 graphics primitives"
      ]
     },
     "execution_count": 50,
     "metadata": {},
     "output_type": "execute_result"
    }
   ],
   "source": [
    "plot(cos(x),(x,0,pi/2),fill=True,ticks=[[0,pi/4,pi/2],None],tick_formatter=pi)"
   ]
  },
  {
   "cell_type": "markdown",
   "metadata": {},
   "source": [
    "It is possible to be completely symbolic in doing integration. If you do this, you’ll have to make sure you define anything that’s a symbolic variable - which includes constants, naturally."
   ]
  },
  {
   "cell_type": "code",
   "execution_count": 51,
   "metadata": {},
   "outputs": [
    {
     "data": {
      "text/plain": [
       "-sin(a) + sin(b)"
      ]
     },
     "execution_count": 51,
     "metadata": {},
     "output_type": "execute_result"
    }
   ],
   "source": [
    "var('a,b')\n",
    "integral(cos(x),(x,a,b))"
   ]
  },
  {
   "cell_type": "markdown",
   "metadata": {
    "vscode": {
     "languageId": "sage"
    }
   },
   "source": [
    "On the numerical side, sometimes the answer one gets from the Fundamental Theorem of Calculus is not entirely helpful. "
   ]
  },
  {
   "cell_type": "code",
   "execution_count": 52,
   "metadata": {},
   "outputs": [
    {
     "data": {
      "text/plain": [
       "1/2*log(sin(1/7*pi) + 1) - 1/2*log(-sin(1/7*pi) + 1)"
      ]
     },
     "execution_count": 52,
     "metadata": {},
     "output_type": "execute_result"
    }
   ],
   "source": [
    "h(x)=sec(x)\n",
    "integral(h,(x,0,pi/7))"
   ]
  },
  {
   "cell_type": "markdown",
   "metadata": {},
   "source": [
    "Here, just a number might be more helpful. Sage has several ways of numerical evaluating integrals.\n",
    "\n",
    "- Doing a definite integral symbolically, then approximating it numerically\n",
    "- The `numerical_integral` function\n",
    "- The `.nintegrate` method\n",
    "\n",
    "The first one, using the n or N function for numerical approximation, was also mentioned in the introductory tutorial."
   ]
  },
  {
   "cell_type": "code",
   "execution_count": 53,
   "metadata": {},
   "outputs": [
    {
     "data": {
      "text/plain": [
       "0.403199719161511"
      ]
     },
     "execution_count": 53,
     "metadata": {},
     "output_type": "execute_result"
    }
   ],
   "source": [
    "N(integral(h,(x,0,pi/8)))"
   ]
  },
  {
   "cell_type": "markdown",
   "metadata": {},
   "source": [
    "The second function, `numerical_integral`, uses a powerful numerical program (the GNU Scientific Library).\n",
    "- Unfortunately, the syntax for this function is not yet consistent with the rest of Sage.\n",
    "- Helpfully, the output has two elements - the answer you desire, and its error tolerance."
   ]
  },
  {
   "cell_type": "code",
   "execution_count": 54,
   "metadata": {},
   "outputs": [
    {
     "data": {
      "text/plain": [
       "(0.4031997191615114, 4.476416117355069e-15)"
      ]
     },
     "execution_count": 54,
     "metadata": {},
     "output_type": "execute_result"
    }
   ],
   "source": [
    "numerical_integral(h,0,pi/8)"
   ]
  },
  {
   "cell_type": "markdown",
   "metadata": {},
   "source": [
    "To access just the number, one asks for the ‘zeroth’ element of this sequence of items. This is done with the following bracket notation."
   ]
  },
  {
   "cell_type": "code",
   "execution_count": 55,
   "metadata": {},
   "outputs": [
    {
     "data": {
      "text/plain": [
       "0.4031997191615114"
      ]
     },
     "execution_count": 55,
     "metadata": {},
     "output_type": "execute_result"
    }
   ],
   "source": [
    "numerical_integral(h,0,pi/8)[0]"
   ]
  },
  {
   "cell_type": "markdown",
   "metadata": {},
   "source": [
    "Notice that we began counting at zero. This is fairly typical in computer programs (though certainly not universal).\n",
    "\n",
    "To aid readability (more important than one might think), we often assign the numerical integral to a variable, and then take the zeroth element of that."
   ]
  },
  {
   "cell_type": "code",
   "execution_count": 56,
   "metadata": {},
   "outputs": [
    {
     "data": {
      "text/plain": [
       "0.4031997191615114"
      ]
     },
     "execution_count": 56,
     "metadata": {},
     "output_type": "execute_result"
    }
   ],
   "source": [
    "ni = numerical_integral(h,0,pi/8)\n",
    "ni[0]"
   ]
  },
  {
   "cell_type": "markdown",
   "metadata": {},
   "source": [
    "Finally, the `.nintegrate()` method from Maxima gives even more extra information.\n",
    "\n",
    "- Notice again the period/dot needed to use this.\n",
    "- It is only possible to use `h(x)`; doing `h.nintegrate()` raises an error."
   ]
  },
  {
   "cell_type": "code",
   "execution_count": 57,
   "metadata": {},
   "outputs": [
    {
     "data": {
      "text/plain": [
       "(0.4031997191615114, 4.47641611735507e-15, 21, 0)"
      ]
     },
     "execution_count": 57,
     "metadata": {},
     "output_type": "execute_result"
    }
   ],
   "source": [
    "h(x).nintegrate(x,0,pi/8)"
   ]
  },
  {
   "cell_type": "code",
   "execution_count": 60,
   "metadata": {},
   "outputs": [
    {
     "name": "stdout",
     "output_type": "stream",
     "text": [
      "\u001b[0;31mDocstring:\u001b[0m\n",
      "   Compute the numerical integral of self.  Please see\n",
      "   \"sage.calculus.calculus.nintegral\" for more details.\n",
      "\n",
      "   EXAMPLES:\n",
      "\n",
      "      sage: sin(x).nintegral(x,0,3)\n",
      "      (1.989992496600..., 2.209335488557...e-14, 21, 0)\n",
      "\u001b[0;31mSource:\u001b[0m   \n",
      "    \u001b[0;32mdef\u001b[0m \u001b[0mnintegral\u001b[0m\u001b[0;34m(\u001b[0m\u001b[0mself\u001b[0m\u001b[0;34m,\u001b[0m \u001b[0;34m*\u001b[0m\u001b[0margs\u001b[0m\u001b[0;34m,\u001b[0m \u001b[0;34m**\u001b[0m\u001b[0mkwds\u001b[0m\u001b[0;34m)\u001b[0m\u001b[0;34m:\u001b[0m\u001b[0;34m\u001b[0m\n",
      "\u001b[0;34m\u001b[0m        \u001b[0;34m\"\"\"\u001b[0m\n",
      "\u001b[0;34m        Compute the numerical integral of self.  Please see\u001b[0m\n",
      "\u001b[0;34m        :obj:`sage.calculus.calculus.nintegral` for more details.\u001b[0m\n",
      "\u001b[0;34m\u001b[0m\n",
      "\u001b[0;34m        EXAMPLES::\u001b[0m\n",
      "\u001b[0;34m\u001b[0m\n",
      "\u001b[0;34m            sage: sin(x).nintegral(x,0,3)\u001b[0m\n",
      "\u001b[0;34m            (1.989992496600..., 2.209335488557...e-14, 21, 0)\u001b[0m\n",
      "\u001b[0;34m        \"\"\"\u001b[0m\u001b[0;34m\u001b[0m\n",
      "\u001b[0;34m\u001b[0m        \u001b[0;32mfrom\u001b[0m \u001b[0msage\u001b[0m\u001b[0;34m.\u001b[0m\u001b[0mcalculus\u001b[0m\u001b[0;34m.\u001b[0m\u001b[0mcalculus\u001b[0m \u001b[0;32mimport\u001b[0m \u001b[0mnintegral\u001b[0m\u001b[0;34m\u001b[0m\n",
      "\u001b[0;34m\u001b[0m        \u001b[0;32mreturn\u001b[0m \u001b[0mnintegral\u001b[0m\u001b[0;34m(\u001b[0m\u001b[0mself\u001b[0m\u001b[0;34m,\u001b[0m \u001b[0;34m*\u001b[0m\u001b[0margs\u001b[0m\u001b[0;34m,\u001b[0m \u001b[0;34m**\u001b[0m\u001b[0mkwds\u001b[0m\u001b[0;34m)\u001b[0m\u001b[0;34m\u001b[0m\u001b[0;34m\u001b[0m\u001b[0m\n",
      "\u001b[0;31mFile:\u001b[0m      /usr/lib/python3/dist-packages/sage/symbolic/expression.pyx\n",
      "\u001b[0;31mType:\u001b[0m      builtin_function_or_method\n"
     ]
    }
   ],
   "source": [
    "h.nintegrate??"
   ]
  },
  {
   "cell_type": "code",
   "execution_count": 61,
   "metadata": {},
   "outputs": [
    {
     "name": "stdout",
     "output_type": "stream",
     "text": [
      "\u001b[0;31mSignature:\u001b[0m\n",
      "\u001b[0msage\u001b[0m\u001b[0;34m.\u001b[0m\u001b[0mcalculus\u001b[0m\u001b[0;34m.\u001b[0m\u001b[0mcalculus\u001b[0m\u001b[0;34m.\u001b[0m\u001b[0mnintegral\u001b[0m\u001b[0;34m(\u001b[0m\u001b[0;34m\u001b[0m\n",
      "\u001b[0;34m\u001b[0m    \u001b[0mex\u001b[0m\u001b[0;34m,\u001b[0m\u001b[0;34m\u001b[0m\n",
      "\u001b[0;34m\u001b[0m    \u001b[0mx\u001b[0m\u001b[0;34m,\u001b[0m\u001b[0;34m\u001b[0m\n",
      "\u001b[0;34m\u001b[0m    \u001b[0ma\u001b[0m\u001b[0;34m,\u001b[0m\u001b[0;34m\u001b[0m\n",
      "\u001b[0;34m\u001b[0m    \u001b[0mb\u001b[0m\u001b[0;34m,\u001b[0m\u001b[0;34m\u001b[0m\n",
      "\u001b[0;34m\u001b[0m    \u001b[0mdesired_relative_error\u001b[0m\u001b[0;34m=\u001b[0m\u001b[0;34m'1e-8'\u001b[0m\u001b[0;34m,\u001b[0m\u001b[0;34m\u001b[0m\n",
      "\u001b[0;34m\u001b[0m    \u001b[0mmaximum_num_subintervals\u001b[0m\u001b[0;34m=\u001b[0m\u001b[0;36m200\u001b[0m\u001b[0;34m,\u001b[0m\u001b[0;34m\u001b[0m\n",
      "\u001b[0;34m\u001b[0m\u001b[0;34m)\u001b[0m\u001b[0;34m\u001b[0m\u001b[0;34m\u001b[0m\u001b[0m\n",
      "\u001b[0;31mDocstring:\u001b[0m\n",
      "   Return a floating point machine precision numerical approximation\n",
      "   to the integral of \"self\" from a to b, computed using floating\n",
      "   point arithmetic via maxima.\n",
      "\n",
      "   INPUT:\n",
      "\n",
      "   * \"x\" - variable to integrate with respect to\n",
      "\n",
      "   * \"a\" - lower endpoint of integration\n",
      "\n",
      "   * \"b\" - upper endpoint of integration\n",
      "\n",
      "   * \"desired_relative_error\" - (default: '1e-8') the desired relative\n",
      "     error\n",
      "\n",
      "   * \"maximum_num_subintervals\" - (default: 200) maxima number of\n",
      "     subintervals\n",
      "\n",
      "   OUTPUT:\n",
      "\n",
      "   * float: approximation to the integral\n",
      "\n",
      "   * float: estimated absolute error of the approximation\n",
      "\n",
      "   * the number of integrand evaluations\n",
      "\n",
      "   * an error code:\n",
      "\n",
      "     * \"0\" - no problems were encountered\n",
      "\n",
      "     * \"1\" - too many subintervals were done\n",
      "\n",
      "     * \"2\" - excessive roundoff error\n",
      "\n",
      "     * \"3\" - extremely bad integrand behavior\n",
      "\n",
      "     * \"4\" - failed to converge\n",
      "\n",
      "     * \"5\" - integral is probably divergent or slowly convergent\n",
      "\n",
      "     * \"6\" - the input is invalid; this includes the case of\n",
      "          desired_relative_error being too small to be achieved\n",
      "\n",
      "   ALIAS: nintegrate is the same as nintegral\n",
      "\n",
      "   REMARK: There is also a function \"numerical_integral\" that\n",
      "   implements numerical integration using the GSL C library. It is\n",
      "   potentially much faster and applies to arbitrary user defined\n",
      "   functions.\n",
      "\n",
      "   Also, there are limits to the precision to which Maxima can compute\n",
      "   the integral due to limitations in quadpack. In the following\n",
      "   example, remark that the last value of the returned tuple is \"6\",\n",
      "   indicating that the input was invalid, in this case because of a\n",
      "   too high desired precision.\n",
      "\n",
      "      sage: f = x\n",
      "      sage: f.nintegral(x,0,1,1e-14)\n",
      "      (0.0, 0.0, 0, 6)\n",
      "\n",
      "   EXAMPLES:\n",
      "\n",
      "      sage: f(x) = exp(-sqrt(x))\n",
      "      sage: f.nintegral(x, 0, 1)\n",
      "      (0.5284822353142306, 4.163...e-11, 231, 0)\n",
      "\n",
      "   We can also use the \"numerical_integral\" function, which calls the\n",
      "   GSL C library.\n",
      "\n",
      "      sage: numerical_integral(f, 0, 1)\n",
      "      (0.528482232253147, 6.83928460...e-07)\n",
      "\n",
      "   Note that in exotic cases where floating point evaluation of the\n",
      "   expression leads to the wrong value, then the output can be\n",
      "   completely wrong:\n",
      "\n",
      "      sage: f = exp(pi*sqrt(163)) - 262537412640768744\n",
      "\n",
      "   Despite appearance, f is really very close to 0, but one gets a\n",
      "   nonzero value since the definition of \"float(f)\" is that it makes\n",
      "   all constants inside the expression floats, then evaluates each\n",
      "   function and each arithmetic operation using float arithmetic:\n",
      "\n",
      "      sage: float(f)\n",
      "      -480.0\n",
      "\n",
      "   Computing to higher precision we see the truth:\n",
      "\n",
      "      sage: f.n(200)\n",
      "      -7.4992740280181431112064614366622348652078895136533593355718e-13\n",
      "      sage: f.n(300)\n",
      "      -7.49927402801814311120646143662663009137292462589621789352095066181709095575681963967103004e-13\n",
      "\n",
      "   Now numerically integrating, we see why the answer is wrong:\n",
      "\n",
      "      sage: f.nintegrate(x,0,1)\n",
      "      (-480.0000000000001, 5.32907051820075...e-12, 21, 0)\n",
      "\n",
      "   It is just because every floating point evaluation of return -480.0\n",
      "   in floating point.\n",
      "\n",
      "   Important note: using PARI/GP one can compute numerical integrals\n",
      "   to high precision:\n",
      "\n",
      "      sage: gp.eval('intnum(x=17,42,exp(-x^2)*log(x))')\n",
      "      '2.565728500561051474934096410 E-127'            # 32-bit\n",
      "      '2.5657285005610514829176211363206621657 E-127'  # 64-bit\n",
      "      sage: old_prec = gp.set_real_precision(50)\n",
      "      sage: gp.eval('intnum(x=17,42,exp(-x^2)*log(x))')\n",
      "      '2.5657285005610514829173563961304957417746108003917 E-127'\n",
      "      sage: gp.set_real_precision(old_prec)\n",
      "      57\n",
      "\n",
      "   Note that the input function above is a string in PARI syntax.\n",
      "\u001b[0;31mSource:\u001b[0m   \n",
      "\u001b[0;32mdef\u001b[0m \u001b[0mnintegral\u001b[0m\u001b[0;34m(\u001b[0m\u001b[0mex\u001b[0m\u001b[0;34m,\u001b[0m \u001b[0mx\u001b[0m\u001b[0;34m,\u001b[0m \u001b[0ma\u001b[0m\u001b[0;34m,\u001b[0m \u001b[0mb\u001b[0m\u001b[0;34m,\u001b[0m\u001b[0;34m\u001b[0m\n",
      "\u001b[0;34m\u001b[0m              \u001b[0mdesired_relative_error\u001b[0m\u001b[0;34m=\u001b[0m\u001b[0;34m'1e-8'\u001b[0m\u001b[0;34m,\u001b[0m\u001b[0;34m\u001b[0m\n",
      "\u001b[0;34m\u001b[0m              \u001b[0mmaximum_num_subintervals\u001b[0m\u001b[0;34m=\u001b[0m\u001b[0;36m200\u001b[0m\u001b[0;34m)\u001b[0m\u001b[0;34m:\u001b[0m\u001b[0;34m\u001b[0m\n",
      "\u001b[0;34m\u001b[0m    \u001b[0;34mr\"\"\"\u001b[0m\n",
      "\u001b[0;34m    Return a floating point machine precision numerical approximation\u001b[0m\n",
      "\u001b[0;34m    to the integral of ``self`` from `a` to\u001b[0m\n",
      "\u001b[0;34m    `b`, computed using floating point arithmetic via maxima.\u001b[0m\n",
      "\u001b[0;34m\u001b[0m\n",
      "\u001b[0;34m    INPUT:\u001b[0m\n",
      "\u001b[0;34m\u001b[0m\n",
      "\u001b[0;34m    - ``x`` - variable to integrate with respect to\u001b[0m\n",
      "\u001b[0;34m\u001b[0m\n",
      "\u001b[0;34m    - ``a`` - lower endpoint of integration\u001b[0m\n",
      "\u001b[0;34m\u001b[0m\n",
      "\u001b[0;34m    - ``b`` - upper endpoint of integration\u001b[0m\n",
      "\u001b[0;34m\u001b[0m\n",
      "\u001b[0;34m    - ``desired_relative_error`` - (default: '1e-8') the\u001b[0m\n",
      "\u001b[0;34m      desired relative error\u001b[0m\n",
      "\u001b[0;34m\u001b[0m\n",
      "\u001b[0;34m    - ``maximum_num_subintervals`` - (default: 200)\u001b[0m\n",
      "\u001b[0;34m      maxima number of subintervals\u001b[0m\n",
      "\u001b[0;34m\u001b[0m\n",
      "\u001b[0;34m    OUTPUT:\u001b[0m\n",
      "\u001b[0;34m\u001b[0m\n",
      "\u001b[0;34m    - float: approximation to the integral\u001b[0m\n",
      "\u001b[0;34m\u001b[0m\n",
      "\u001b[0;34m    - float: estimated absolute error of the\u001b[0m\n",
      "\u001b[0;34m      approximation\u001b[0m\n",
      "\u001b[0;34m\u001b[0m\n",
      "\u001b[0;34m    - the number of integrand evaluations\u001b[0m\n",
      "\u001b[0;34m\u001b[0m\n",
      "\u001b[0;34m    - an error code:\u001b[0m\n",
      "\u001b[0;34m\u001b[0m\n",
      "\u001b[0;34m      - ``0`` - no problems were encountered\u001b[0m\n",
      "\u001b[0;34m\u001b[0m\n",
      "\u001b[0;34m      - ``1`` - too many subintervals were done\u001b[0m\n",
      "\u001b[0;34m\u001b[0m\n",
      "\u001b[0;34m      - ``2`` - excessive roundoff error\u001b[0m\n",
      "\u001b[0;34m\u001b[0m\n",
      "\u001b[0;34m      - ``3`` - extremely bad integrand behavior\u001b[0m\n",
      "\u001b[0;34m\u001b[0m\n",
      "\u001b[0;34m      - ``4`` - failed to converge\u001b[0m\n",
      "\u001b[0;34m\u001b[0m\n",
      "\u001b[0;34m      - ``5`` - integral is probably divergent or slowly\u001b[0m\n",
      "\u001b[0;34m        convergent\u001b[0m\n",
      "\u001b[0;34m\u001b[0m\n",
      "\u001b[0;34m      - ``6`` - the input is invalid; this includes the case of\u001b[0m\n",
      "\u001b[0;34m                desired_relative_error being too small to be achieved\u001b[0m\n",
      "\u001b[0;34m\u001b[0m\n",
      "\u001b[0;34m    ALIAS: nintegrate is the same as nintegral\u001b[0m\n",
      "\u001b[0;34m\u001b[0m\n",
      "\u001b[0;34m    REMARK: There is also a function\u001b[0m\n",
      "\u001b[0;34m    ``numerical_integral`` that implements numerical\u001b[0m\n",
      "\u001b[0;34m    integration using the GSL C library. It is potentially much faster\u001b[0m\n",
      "\u001b[0;34m    and applies to arbitrary user defined functions.\u001b[0m\n",
      "\u001b[0;34m\u001b[0m\n",
      "\u001b[0;34m    Also, there are limits to the precision to which Maxima can compute\u001b[0m\n",
      "\u001b[0;34m    the integral due to limitations in quadpack.\u001b[0m\n",
      "\u001b[0;34m    In the following example, remark that the last value of the returned\u001b[0m\n",
      "\u001b[0;34m    tuple is ``6``, indicating that the input was invalid, in this case\u001b[0m\n",
      "\u001b[0;34m    because of a too high desired precision.\u001b[0m\n",
      "\u001b[0;34m\u001b[0m\n",
      "\u001b[0;34m    ::\u001b[0m\n",
      "\u001b[0;34m\u001b[0m\n",
      "\u001b[0;34m        sage: f = x\u001b[0m\n",
      "\u001b[0;34m        sage: f.nintegral(x,0,1,1e-14)\u001b[0m\n",
      "\u001b[0;34m        (0.0, 0.0, 0, 6)\u001b[0m\n",
      "\u001b[0;34m\u001b[0m\n",
      "\u001b[0;34m    EXAMPLES::\u001b[0m\n",
      "\u001b[0;34m\u001b[0m\n",
      "\u001b[0;34m        sage: f(x) = exp(-sqrt(x))\u001b[0m\n",
      "\u001b[0;34m        sage: f.nintegral(x, 0, 1)\u001b[0m\n",
      "\u001b[0;34m        (0.5284822353142306, 4.163...e-11, 231, 0)\u001b[0m\n",
      "\u001b[0;34m\u001b[0m\n",
      "\u001b[0;34m    We can also use the ``numerical_integral`` function,\u001b[0m\n",
      "\u001b[0;34m    which calls the GSL C library.\u001b[0m\n",
      "\u001b[0;34m\u001b[0m\n",
      "\u001b[0;34m    ::\u001b[0m\n",
      "\u001b[0;34m\u001b[0m\n",
      "\u001b[0;34m        sage: numerical_integral(f, 0, 1)\u001b[0m\n",
      "\u001b[0;34m        (0.528482232253147, 6.83928460...e-07)\u001b[0m\n",
      "\u001b[0;34m\u001b[0m\n",
      "\u001b[0;34m    Note that in exotic cases where floating point evaluation of the\u001b[0m\n",
      "\u001b[0;34m    expression leads to the wrong value, then the output can be\u001b[0m\n",
      "\u001b[0;34m    completely wrong::\u001b[0m\n",
      "\u001b[0;34m\u001b[0m\n",
      "\u001b[0;34m        sage: f = exp(pi*sqrt(163)) - 262537412640768744\u001b[0m\n",
      "\u001b[0;34m\u001b[0m\n",
      "\u001b[0;34m    Despite appearance, `f` is really very close to 0, but one\u001b[0m\n",
      "\u001b[0;34m    gets a nonzero value since the definition of\u001b[0m\n",
      "\u001b[0;34m    ``float(f)`` is that it makes all constants inside the\u001b[0m\n",
      "\u001b[0;34m    expression floats, then evaluates each function and each arithmetic\u001b[0m\n",
      "\u001b[0;34m    operation using float arithmetic::\u001b[0m\n",
      "\u001b[0;34m\u001b[0m\n",
      "\u001b[0;34m        sage: float(f)\u001b[0m\n",
      "\u001b[0;34m        -480.0\u001b[0m\n",
      "\u001b[0;34m\u001b[0m\n",
      "\u001b[0;34m    Computing to higher precision we see the truth::\u001b[0m\n",
      "\u001b[0;34m\u001b[0m\n",
      "\u001b[0;34m        sage: f.n(200)\u001b[0m\n",
      "\u001b[0;34m        -7.4992740280181431112064614366622348652078895136533593355718e-13\u001b[0m\n",
      "\u001b[0;34m        sage: f.n(300)\u001b[0m\n",
      "\u001b[0;34m        -7.49927402801814311120646143662663009137292462589621789352095066181709095575681963967103004e-13\u001b[0m\n",
      "\u001b[0;34m\u001b[0m\n",
      "\u001b[0;34m    Now numerically integrating, we see why the answer is wrong::\u001b[0m\n",
      "\u001b[0;34m\u001b[0m\n",
      "\u001b[0;34m        sage: f.nintegrate(x,0,1)\u001b[0m\n",
      "\u001b[0;34m        (-480.0000000000001, 5.32907051820075...e-12, 21, 0)\u001b[0m\n",
      "\u001b[0;34m\u001b[0m\n",
      "\u001b[0;34m    It is just because every floating point evaluation of return -480.0\u001b[0m\n",
      "\u001b[0;34m    in floating point.\u001b[0m\n",
      "\u001b[0;34m\u001b[0m\n",
      "\u001b[0;34m    Important note: using PARI/GP one can compute numerical integrals\u001b[0m\n",
      "\u001b[0;34m    to high precision::\u001b[0m\n",
      "\u001b[0;34m\u001b[0m\n",
      "\u001b[0;34m        sage: gp.eval('intnum(x=17,42,exp(-x^2)*log(x))')\u001b[0m\n",
      "\u001b[0;34m        '2.565728500561051474934096410 E-127'            # 32-bit\u001b[0m\n",
      "\u001b[0;34m        '2.5657285005610514829176211363206621657 E-127'  # 64-bit\u001b[0m\n",
      "\u001b[0;34m        sage: old_prec = gp.set_real_precision(50)\u001b[0m\n",
      "\u001b[0;34m        sage: gp.eval('intnum(x=17,42,exp(-x^2)*log(x))')\u001b[0m\n",
      "\u001b[0;34m        '2.5657285005610514829173563961304957417746108003917 E-127'\u001b[0m\n",
      "\u001b[0;34m        sage: gp.set_real_precision(old_prec)\u001b[0m\n",
      "\u001b[0;34m        57\u001b[0m\n",
      "\u001b[0;34m\u001b[0m\n",
      "\u001b[0;34m    Note that the input function above is a string in PARI syntax.\u001b[0m\n",
      "\u001b[0;34m    \"\"\"\u001b[0m\u001b[0;34m\u001b[0m\n",
      "\u001b[0;34m\u001b[0m    \u001b[0;32mtry\u001b[0m\u001b[0;34m:\u001b[0m\u001b[0;34m\u001b[0m\n",
      "\u001b[0;34m\u001b[0m        \u001b[0mv\u001b[0m \u001b[0;34m=\u001b[0m \u001b[0mex\u001b[0m\u001b[0;34m.\u001b[0m\u001b[0m_maxima_\u001b[0m\u001b[0;34m(\u001b[0m\u001b[0;34m)\u001b[0m\u001b[0;34m.\u001b[0m\u001b[0mquad_qags\u001b[0m\u001b[0;34m(\u001b[0m\u001b[0mx\u001b[0m\u001b[0;34m,\u001b[0m \u001b[0ma\u001b[0m\u001b[0;34m,\u001b[0m \u001b[0mb\u001b[0m\u001b[0;34m,\u001b[0m\u001b[0;34m\u001b[0m\n",
      "\u001b[0;34m\u001b[0m                                    \u001b[0mepsrel\u001b[0m\u001b[0;34m=\u001b[0m\u001b[0mdesired_relative_error\u001b[0m\u001b[0;34m,\u001b[0m\u001b[0;34m\u001b[0m\n",
      "\u001b[0;34m\u001b[0m                                    \u001b[0mlimit\u001b[0m\u001b[0;34m=\u001b[0m\u001b[0mmaximum_num_subintervals\u001b[0m\u001b[0;34m)\u001b[0m\u001b[0;34m\u001b[0m\n",
      "\u001b[0;34m\u001b[0m    \u001b[0;32mexcept\u001b[0m \u001b[0mTypeError\u001b[0m \u001b[0;32mas\u001b[0m \u001b[0merr\u001b[0m\u001b[0;34m:\u001b[0m\u001b[0;34m\u001b[0m\n",
      "\u001b[0;34m\u001b[0m        \u001b[0;32mif\u001b[0m \u001b[0;34m\"ERROR\"\u001b[0m \u001b[0;32min\u001b[0m \u001b[0mstr\u001b[0m\u001b[0;34m(\u001b[0m\u001b[0merr\u001b[0m\u001b[0;34m)\u001b[0m\u001b[0;34m:\u001b[0m\u001b[0;34m\u001b[0m\n",
      "\u001b[0;34m\u001b[0m            \u001b[0;32mraise\u001b[0m \u001b[0mValueError\u001b[0m\u001b[0;34m(\u001b[0m\u001b[0;34m\"Maxima (via quadpack) cannot compute the integral\"\u001b[0m\u001b[0;34m)\u001b[0m\u001b[0;34m\u001b[0m\n",
      "\u001b[0;34m\u001b[0m        \u001b[0;32melse\u001b[0m\u001b[0;34m:\u001b[0m\u001b[0;34m\u001b[0m\n",
      "\u001b[0;34m\u001b[0m            \u001b[0;32mraise\u001b[0m \u001b[0mTypeError\u001b[0m\u001b[0;34m(\u001b[0m\u001b[0merr\u001b[0m\u001b[0;34m)\u001b[0m\u001b[0;34m\u001b[0m\n",
      "\u001b[0;34m\u001b[0m\u001b[0;34m\u001b[0m\n",
      "\u001b[0;34m\u001b[0m    \u001b[0;31m# Maxima returns unevaluated expressions when the underlying library fails\u001b[0m\u001b[0;34m\u001b[0m\n",
      "\u001b[0;34m\u001b[0m    \u001b[0;31m# to perform numerical integration. See:\u001b[0m\u001b[0;34m\u001b[0m\n",
      "\u001b[0;34m\u001b[0m    \u001b[0;31m# http://www.math.utexas.edu/pipermail/maxima/2008/012975.html\u001b[0m\u001b[0;34m\u001b[0m\n",
      "\u001b[0;34m\u001b[0m    \u001b[0;32mif\u001b[0m \u001b[0;34m'quad_qags'\u001b[0m \u001b[0;32min\u001b[0m \u001b[0mstr\u001b[0m\u001b[0;34m(\u001b[0m\u001b[0mv\u001b[0m\u001b[0;34m)\u001b[0m\u001b[0;34m:\u001b[0m\u001b[0;34m\u001b[0m\n",
      "\u001b[0;34m\u001b[0m        \u001b[0;32mraise\u001b[0m \u001b[0mValueError\u001b[0m\u001b[0;34m(\u001b[0m\u001b[0;34m\"Maxima (via quadpack) cannot compute the integral\"\u001b[0m\u001b[0;34m)\u001b[0m\u001b[0;34m\u001b[0m\n",
      "\u001b[0;34m\u001b[0m\u001b[0;34m\u001b[0m\n",
      "\u001b[0;34m\u001b[0m    \u001b[0;32mreturn\u001b[0m \u001b[0mfloat\u001b[0m\u001b[0;34m(\u001b[0m\u001b[0mv\u001b[0m\u001b[0;34m[\u001b[0m\u001b[0;36m0\u001b[0m\u001b[0;34m]\u001b[0m\u001b[0;34m)\u001b[0m\u001b[0;34m,\u001b[0m \u001b[0mfloat\u001b[0m\u001b[0;34m(\u001b[0m\u001b[0mv\u001b[0m\u001b[0;34m[\u001b[0m\u001b[0;36m1\u001b[0m\u001b[0;34m]\u001b[0m\u001b[0;34m)\u001b[0m\u001b[0;34m,\u001b[0m \u001b[0mInteger\u001b[0m\u001b[0;34m(\u001b[0m\u001b[0mv\u001b[0m\u001b[0;34m[\u001b[0m\u001b[0;36m2\u001b[0m\u001b[0;34m]\u001b[0m\u001b[0;34m)\u001b[0m\u001b[0;34m,\u001b[0m \u001b[0mInteger\u001b[0m\u001b[0;34m(\u001b[0m\u001b[0mv\u001b[0m\u001b[0;34m[\u001b[0m\u001b[0;36m3\u001b[0m\u001b[0;34m]\u001b[0m\u001b[0;34m)\u001b[0m\u001b[0;34m\u001b[0m\u001b[0;34m\u001b[0m\u001b[0m\n",
      "\u001b[0;31mFile:\u001b[0m      /usr/lib/python3/dist-packages/sage/calculus/calculus.py\n",
      "\u001b[0;31mType:\u001b[0m      function\n"
     ]
    }
   ],
   "source": [
    "sage.calculus.calculus.nintegral??"
   ]
  },
  {
   "cell_type": "markdown",
   "metadata": {},
   "source": [
    "### Topics on Sumation\n",
    "\n",
    "Second-semester calculus usually also covers various topics in summation. Sage can sum many abstract series; the notation is similar to plotting and integration."
   ]
  },
  {
   "cell_type": "code",
   "execution_count": 62,
   "metadata": {},
   "outputs": [
    {
     "data": {
      "text/plain": [
       "3/2"
      ]
     },
     "execution_count": 62,
     "metadata": {},
     "output_type": "execute_result"
    }
   ],
   "source": [
    "var('n') \n",
    "sum((1/3)^n,n,0,oo)"
   ]
  },
  {
   "cell_type": "markdown",
   "metadata": {},
   "source": [
    "This is the geometric series, of course.\n",
    "\n",
    "The next one is the famous result that a row of Pascal’s triangle is a power of 2 \n",
    "$$ \\binom{n}{0}+\\binom{n}{1}+\\binom{n}{2}+\\cdots+\\binom{n}{n-1}+\\binom{n}{n}=2^n\\; , $$\n",
    "which has many pleasing combinatorial interpretations."
   ]
  },
  {
   "cell_type": "code",
   "execution_count": 63,
   "metadata": {},
   "outputs": [
    {
     "data": {
      "text/plain": [
       "2^n"
      ]
     },
     "execution_count": 63,
     "metadata": {},
     "output_type": "execute_result"
    }
   ],
   "source": [
    "k = var('k') \n",
    "sum(binomial(n,k), k, 0, n)"
   ]
  },
  {
   "cell_type": "markdown",
   "metadata": {},
   "source": [
    "Sage also can compute Taylor polynomials.\n",
    "\n",
    "Taylor expansions depend on a lot of things. Whenever there are several inputs, keeping syntax straight is important. Here we have as inputs:\n",
    "\n",
    "- the function,\n",
    "- the variable,\n",
    "- the point around which we are expanding the function, and\n",
    "- the degree.\n",
    "\n",
    "In the next cell, we call $g(x)$ the Taylor polynomial in question."
   ]
  },
  {
   "cell_type": "code",
   "execution_count": 64,
   "metadata": {},
   "outputs": [
    {
     "data": {
      "text/plain": [
       "-1/6*(x - 1)^6 + 1/5*(x - 1)^5 - 1/4*(x - 1)^4 + 1/3*(x - 1)^3 - 1/2*(x - 1)^2 + x - 1"
      ]
     },
     "execution_count": 64,
     "metadata": {},
     "output_type": "execute_result"
    }
   ],
   "source": [
    "g(x)=taylor(log(x),x,1,6)\n",
    "g(x)"
   ]
  },
  {
   "cell_type": "markdown",
   "metadata": {},
   "source": [
    "Notice how close the approximation is to the function on this interval!"
   ]
  },
  {
   "cell_type": "code",
   "execution_count": 65,
   "metadata": {},
   "outputs": [
    {
     "data": {
      "image/png": "[encoded data removed]",
      "text/plain": [
       "Graphics object consisting of 2 graphics primitives"
      ]
     },
     "execution_count": 65,
     "metadata": {},
     "output_type": "execute_result"
    }
   ],
   "source": [
    "plot(g,(x,0,2))+plot(log(x),(x,0,2),color='red')"
   ]
  }
 ],
 "metadata": {
  "kernelspec": {
   "display_name": "SageMath 9.5",
   "language": "sage",
   "name": "sagemath"
  },
  "language_info": {
   "codemirror_mode": {
    "name": "ipython",
    "version": 3
   },
   "file_extension": ".py",
   "mimetype": "text/x-python",
   "name": "sage",
   "nbconvert_exporter": "python",
   "pygments_lexer": "ipython3",
   "version": "3.10.12"
  }
 },
 "nbformat": 4,
 "nbformat_minor": 2
}
