{
 "cells": [
  {
   "cell_type": "markdown",
   "metadata": {},
   "source": [
    "# Tutorial for Symbolics and Plotting\n",
    "\n",
    "## Symbolic Expressions\n",
    "In the first tutorial, we defined functions using notation similar to that one would use in (say) a calculus course.\n",
    "\n",
    "There is a useful variant on this - defining expressions involving variables. This will give us the opportunity to point out several important, and sometimes subtle, things.\n",
    "\n",
    "In the cell below, we define an expression  which is the future value of an investment of \\$100, compounded continuously. We then substitute in values for $r$ and $t$ which calculate the future value for $t=5$  years and $r=5%$ nominal interest."
   ]
  },
  {
   "cell_type": "code",
   "execution_count": 1,
   "metadata": {
    "vscode": {
     "languageId": "sage"
    }
   },
   "outputs": [
    {
     "data": {
      "text/plain": [
       "100*e^(r*t)"
      ]
     },
     "execution_count": 1,
     "metadata": {},
     "output_type": "execute_result"
    }
   ],
   "source": [
    "var('r,t')\n",
    "FV = 100*e^(r*t)\n",
    "FV "
   ]
  },
  {
   "cell_type": "code",
   "execution_count": 2,
   "metadata": {
    "vscode": {
     "languageId": "sage"
    }
   },
   "outputs": [
    {
     "data": {
      "text/plain": [
       "128.402541668774"
      ]
     },
     "execution_count": 2,
     "metadata": {},
     "output_type": "execute_result"
    }
   ],
   "source": [
    "FV(r=0.05, t=5)"
   ]
  },
  {
   "cell_type": "markdown",
   "metadata": {},
   "source": [
    "Notice that when we define a function, we don’t need to specify which variable has which value. In the function defined below, we have already specified an order."
   ]
  },
  {
   "cell_type": "code",
   "execution_count": 3,
   "metadata": {
    "vscode": {
     "languageId": "sage"
    }
   },
   "outputs": [
    {
     "data": {
      "text/plain": [
       "128.402541668774"
      ]
     },
     "execution_count": 3,
     "metadata": {},
     "output_type": "execute_result"
    }
   ],
   "source": [
    "FV2(r,t) = 100*e^(r*t)\n",
    "FV2(r=0.05, t=5)"
   ]
  },
  {
   "cell_type": "markdown",
   "metadata": {},
   "source": [
    "Also remember that when we don’t use function notation, we’ll need to define our variables.\n",
    "\n",
    "One of the great things we can do with expressions is manipulate them. Let’s make a typical expression."
   ]
  },
  {
   "cell_type": "code",
   "execution_count": 4,
   "metadata": {
    "vscode": {
     "languageId": "sage"
    }
   },
   "outputs": [],
   "source": [
    "z = (x+1)^3"
   ]
  },
  {
   "cell_type": "code",
   "execution_count": 5,
   "metadata": {
    "vscode": {
     "languageId": "sage"
    }
   },
   "outputs": [
    {
     "data": {
      "text/plain": [
       "x^3 + 3*x^2 + 3*x + 1"
      ]
     },
     "execution_count": 5,
     "metadata": {},
     "output_type": "execute_result"
    }
   ],
   "source": [
    "expand(z)"
   ]
  },
  {
   "cell_type": "code",
   "execution_count": 6,
   "metadata": {
    "vscode": {
     "languageId": "sage"
    }
   },
   "outputs": [
    {
     "data": {
      "text/plain": [
       "x^3 + 3*x^2 + 3*x + 1"
      ]
     },
     "execution_count": 6,
     "metadata": {},
     "output_type": "execute_result"
    }
   ],
   "source": [
    "z.expand()"
   ]
  },
  {
   "cell_type": "code",
   "execution_count": 7,
   "metadata": {
    "vscode": {
     "languageId": "sage"
    }
   },
   "outputs": [
    {
     "data": {
      "text/plain": [
       "(x + 1)^3"
      ]
     },
     "execution_count": 7,
     "metadata": {},
     "output_type": "execute_result"
    }
   ],
   "source": [
    "z.expand().factor()"
   ]
  },
  {
   "cell_type": "markdown",
   "metadata": {},
   "source": [
    "This is a good place for a few reminders of basic help.\n",
    "\n",
    "You can see various methods for simplifying an expression by using tab completion. Put your cursor at the end of the next cell (after the `simplify`) and press tab to see lots of different methods.\n",
    "\n",
    "Also remember that you can use the question mark (e.g., `z.simplify_rational?`) to get help about a particular method."
   ]
  },
  {
   "cell_type": "code",
   "execution_count": 8,
   "metadata": {
    "vscode": {
     "languageId": "sage"
    }
   },
   "outputs": [
    {
     "data": {
      "text/plain": [
       "-2*sqrt(x - 1)/sqrt(x^2 - 1)"
      ]
     },
     "execution_count": 8,
     "metadata": {},
     "output_type": "execute_result"
    }
   ],
   "source": [
    "z = ((x - 1)^(3/2) - (x + 1)*sqrt(x - 1))/sqrt((x - 1)*(x + 1))\n",
    "z.simplify_full()"
   ]
  },
  {
   "cell_type": "code",
   "execution_count": 9,
   "metadata": {
    "vscode": {
     "languageId": "sage"
    }
   },
   "outputs": [
    {
     "data": {
      "text/plain": [
       "-((x + 1)*sqrt(x - 1) - (x - 1)^(3/2))/sqrt((x + 1)*(x - 1))"
      ]
     },
     "execution_count": 9,
     "metadata": {},
     "output_type": "execute_result"
    }
   ],
   "source": [
    "z.simplify() "
   ]
  },
  {
   "cell_type": "code",
   "execution_count": 10,
   "metadata": {
    "vscode": {
     "languageId": "sage"
    }
   },
   "outputs": [
    {
     "name": "stdout",
     "output_type": "stream",
     "text": [
      "\u001b[0;31mDocstring:\u001b[0m     \n",
      "   Simplify rational expressions.\n",
      "\n",
      "   INPUT:\n",
      "\n",
      "   * \"self\" - symbolic expression\n",
      "\n",
      "   * \"algorithm\" - (default: 'full') string which switches the\n",
      "     algorithm for simplifications. Possible values are\n",
      "\n",
      "     * 'simple' (simplify rational functions into quotient of two\n",
      "       polynomials),\n",
      "\n",
      "     * 'full' (apply repeatedly, if necessary)\n",
      "\n",
      "     * 'noexpand' (convert to common denominator and add)\n",
      "\n",
      "   * \"map\" - (default: \"False\") if \"True\", the result is an expression\n",
      "     whose leading operator is the same as that of the expression\n",
      "     \"self\" but whose subparts are the results of applying\n",
      "     simplification rules to the corresponding subparts of the\n",
      "     expressions.\n",
      "\n",
      "   ALIAS: \"rational_simplify()\" and \"simplify_rational()\" are the same\n",
      "\n",
      "   DETAILS: We call Maxima functions ratsimp, fullratsimp and xthru.\n",
      "   If each part of the expression has to be simplified separately, we\n",
      "   use Maxima function map.\n",
      "\n",
      "   EXAMPLES:\n",
      "\n",
      "      sage: f = sin(x/(x^2 + x))\n",
      "      sage: f\n",
      "      sin(x/(x^2 + x))\n",
      "      sage: f.simplify_rational()\n",
      "      sin(1/(x + 1))\n",
      "\n",
      "      sage: f = ((x - 1)^(3/2) - (x + 1)*sqrt(x - 1))/sqrt((x - 1)*(x + 1)); f\n",
      "      -((x + 1)*sqrt(x - 1) - (x - 1)^(3/2))/sqrt((x + 1)*(x - 1))\n",
      "      sage: f.simplify_rational()\n",
      "      -2*sqrt(x - 1)/sqrt(x^2 - 1)\n",
      "\n",
      "   With \"map=True\" each term in a sum is simplified separately and\n",
      "   thus the results are shorter for functions which are combination of\n",
      "   rational and nonrational functions. In the following example, we\n",
      "   use this option if we want not to combine logarithm and the\n",
      "   rational function into one fraction:\n",
      "\n",
      "      sage: f=(x^2-1)/(x+1)-ln(x)/(x+2)\n",
      "      sage: f.simplify_rational()\n",
      "      (x^2 + x - log(x) - 2)/(x + 2)\n",
      "      sage: f.simplify_rational(map=True)\n",
      "      x - log(x)/(x + 2) - 1\n",
      "\n",
      "   Here is an example from the Maxima documentation of where\n",
      "   \"algorithm='simple'\" produces an (possibly useful) intermediate\n",
      "   step:\n",
      "\n",
      "      sage: y = var('y')\n",
      "      sage: g = (x^(y/2) + 1)^2*(x^(y/2) - 1)^2/(x^y - 1)\n",
      "      sage: g.simplify_rational(algorithm='simple')\n",
      "      (x^(2*y) - 2*x^y + 1)/(x^y - 1)\n",
      "      sage: g.simplify_rational()\n",
      "      x^y - 1\n",
      "\n",
      "   With option \"algorithm='noexpand'\" we only convert to common\n",
      "   denominators and add. No expansion of products is performed:\n",
      "\n",
      "      sage: f=1/(x+1)+x/(x+2)^2\n",
      "      sage: f.simplify_rational()\n",
      "      (2*x^2 + 5*x + 4)/(x^3 + 5*x^2 + 8*x + 4)\n",
      "      sage: f.simplify_rational(algorithm='noexpand')\n",
      "      ((x + 2)^2 + (x + 1)*x)/((x + 2)^2*(x + 1))\n",
      "\u001b[0;31mInit docstring:\u001b[0m Initialize self.  See help(type(self)) for accurate signature.\n",
      "\u001b[0;31mFile:\u001b[0m           /usr/lib/python3/dist-packages/sage/symbolic/expression.pyx\n",
      "\u001b[0;31mType:\u001b[0m           builtin_function_or_method\n"
     ]
    }
   ],
   "source": [
    "z.simplify_rational?"
   ]
  },
  {
   "cell_type": "code",
   "execution_count": 11,
   "metadata": {
    "vscode": {
     "languageId": "sage"
    }
   },
   "outputs": [
    {
     "data": {
      "text/plain": [
       "-2*sqrt(x - 1)/sqrt(x^2 - 1)"
      ]
     },
     "execution_count": 11,
     "metadata": {},
     "output_type": "execute_result"
    }
   ],
   "source": [
    "z.simplify_rational()"
   ]
  },
  {
   "cell_type": "markdown",
   "metadata": {},
   "source": [
    "Another Sage command that is useful in this context is `solve`.\n",
    "\n",
    "Here, we solve the simple equation $x^2=1$. "
   ]
  },
  {
   "cell_type": "code",
   "execution_count": 12,
   "metadata": {
    "vscode": {
     "languageId": "sage"
    }
   },
   "outputs": [
    {
     "data": {
      "text/plain": [
       "[x == -I, x == I]"
      ]
     },
     "execution_count": 12,
     "metadata": {},
     "output_type": "execute_result"
    }
   ],
   "source": [
    "solve(x^2==-1,x) "
   ]
  },
  {
   "cell_type": "markdown",
   "metadata": {},
   "source": [
    "- In the solve command, one types an equals sign in the equation as two equal signs.\n",
    "\n",
    "- This is because the single equals sign means assignment to a variable, as we’ve done above, so Sage (along with Python) uses the double equals sign for symbolic equality.\n",
    "\n",
    "- We also include the variable we’d like to solve for after the comma.\n",
    "\n",
    "- It’s also possible to solve more than one expression simultaneously."
   ]
  },
  {
   "cell_type": "code",
   "execution_count": 13,
   "metadata": {
    "vscode": {
     "languageId": "sage"
    }
   },
   "outputs": [
    {
     "data": {
      "text/plain": [
       "[[x == 1]]"
      ]
     },
     "execution_count": 13,
     "metadata": {},
     "output_type": "execute_result"
    }
   ],
   "source": [
    "solve([x^2==1,x^3==1],x)"
   ]
  }
 ],
 "metadata": {
  "kernelspec": {
   "display_name": "SageMath 9.5",
   "language": "sage",
   "name": "sagemath"
  },
  "language_info": {
   "codemirror_mode": {
    "name": "ipython",
    "version": 3
   },
   "file_extension": ".py",
   "mimetype": "text/x-python",
   "name": "python",
   "nbconvert_exporter": "python",
   "pygments_lexer": "ipython3",
   "version": "3.10.12"
  }
 },
 "nbformat": 4,
 "nbformat_minor": 2
}
